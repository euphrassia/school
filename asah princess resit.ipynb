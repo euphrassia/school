{
 "cells": [
  {
   "cell_type": "code",
   "execution_count": null,
   "id": "da73c0cc-5fee-4df3-9138-87c610c9546c",
   "metadata": {},
   "outputs": [],
   "source": []
  },
  {
   "cell_type": "markdown",
   "id": "792ca8c1",
   "metadata": {},
   "source": [
    "## Data Analytics with Visualization in Python Exam.\n",
    "\n",
    "## <><><><>Student Identification Information<><><><>\n",
    "\n",
    "### Student Name:asah princess\n",
    "### Matriculation Number:\n",
    "### Specialty:software engineering"
   ]
  },
  {
   "cell_type": "markdown",
   "id": "90386353",
   "metadata": {},
   "source": [
    "## This is a practical examination. INTERNET ACCESS IS PROHIBITED!\n",
    "### Scenario\n",
    "Company XYZ is a mid-sized e-commerce retailer specializing in fashion and lifestyle products in Buea. Over the past year, the company has experienced steady growth but is now facing increased competition and a plateau in customer retention. To address this, XYZ aims to leverage the data generated during the entire life-time of the business. She safeguards the data and stores it into an excel sheet with the file name Customer Shopping dataset. Her intention is to use the data to explore insights and discover patterns to gain deeper insights into customer behavior, preferences, and purchasing patterns. The goal is to tailor marketing strategies, optimize product offerings, and improve the overall customer experience to drive higher engagement and loyalty.\n",
    "The Customer Shopping Dataset offers valuable insights into consumer behavior and purchasing patterns. Understanding customer preferences and trends is critical for XYZ to tailor their products, marketing strategies, and overall customer experience. This dataset captures a wide range of customer attributes including age, gender, purchase history, preferred payment methods, frequency of purchases, and more. Analyzing this data can help businesses make informed decisions, optimize product offerings, and enhance customer satisfaction. The dataset stands as a valuable resource for XYZ aiming to align their strategies with customer needs and preferences. Additionally, data on the type of items purchased, shopping frequency, preferred shopping seasons, and interactions with promotional offers is included. With a collection of 3900 records, this dataset serves as a foundation for businesses looking to apply data-driven insights for better decision-making and customer-centric strategies. \n",
    "The dataset will be provided during the start of the exam.\n"
   ]
  },
  {
   "cell_type": "markdown",
   "id": "52f139fc",
   "metadata": {},
   "source": [
    "### Data Dictionary"
   ]
  },
  {
   "cell_type": "markdown",
   "id": "b6e09bda",
   "metadata": {
    "papermill": {
     "duration": 0.025588,
     "end_time": "2023-11-04T12:15:43.061926",
     "exception": false,
     "start_time": "2023-11-04T12:15:43.036338",
     "status": "completed"
    },
    "tags": []
   },
   "source": [
    "1. Customer ID - Unique identifier for each customer.\n",
    "2. Age - Age of the customer.\n",
    "3. Gender - Gender of the customer (Male/Female).\n",
    "4. Item Purchased - The item purchased by the customer.\n",
    "5. Category - Category of the item purchased.\n",
    "6. Purchase Amount (USD) - The amount of the purchase in USD.\n",
    "7. Location - Location where the purchase was made.\n",
    "8. Size - Size of the purchased item.\n",
    "9. Color - Color of the purchased item.\n",
    "10. Season - Season during which the purchase was made.\n",
    "11. Review Rating - Rating given by the customer for the purchased item.\n",
    "12. Subscription Status - Indicates if the customer has a subscription (Yes/No).\n",
    "13. Shipping Type - Type of shipping chosen by the customer.\n",
    "14. Discount Applied - Indicates if a discount was applied to the purchase (Yes/No).\n",
    "15. Promo Code Used - Indicates if a promo code was used for the purchase (Yes/No).\n",
    "16. Previous Purchases - Number of previous purchases made by the customer.\n",
    "17. Payment Method - Customer's most preferred payment method.\n",
    "18. Frequency of Purchases - Frequency at which the customer makes purchases (e.g., Weekly, Fortnightly, Monthly)."
   ]
  },
  {
   "cell_type": "markdown",
   "id": "42dbf14a",
   "metadata": {
    "papermill": {
     "duration": 0.025145,
     "end_time": "2023-11-04T12:15:43.112710",
     "exception": false,
     "start_time": "2023-11-04T12:15:43.087565",
     "status": "completed"
    },
    "tags": []
   },
   "source": [
    "<div style=\"padding:10px;\n",
    "            color:#E55604;\n",
    "            margin:10px;\n",
    "            font-size:130%;\n",
    "            display:fill;\n",
    "            border-radius:5px;\n",
    "            border-style: solid;\n",
    "            border-color: #FF9B50;\n",
    "            background-color:#000000;\n",
    "            overflow:hidden;\n",
    "            font-weight:400\"><b>Importing Libraries</b>\n",
    "</div>"
   ]
  },
  {
   "cell_type": "code",
   "execution_count": 1,
   "id": "4d26c1fb",
   "metadata": {
    "papermill": {
     "duration": 1.732175,
     "end_time": "2023-11-04T12:15:44.871714",
     "exception": false,
     "start_time": "2023-11-04T12:15:43.139539",
     "status": "completed"
    },
    "tags": []
   },
   "outputs": [],
   "source": [
    "import pandas as pd\n",
    "\n",
    "import matplotlib.pyplot as plt\n",
    "from scipy.stats import pearsonr"
   ]
  },
  {
   "cell_type": "markdown",
   "id": "17c1e45b",
   "metadata": {
    "papermill": {
     "duration": 0.02353,
     "end_time": "2023-11-04T12:15:44.920371",
     "exception": false,
     "start_time": "2023-11-04T12:15:44.896841",
     "status": "completed"
    },
    "tags": []
   },
   "source": [
    "<div style=\"padding:10px;\n",
    "            color:#E55604;\n",
    "            margin:10px;\n",
    "            font-size:130%;\n",
    "            display:fill;\n",
    "            border-radius:5px;\n",
    "            border-style: solid;\n",
    "            border-color: #FF9B50;\n",
    "            background-color:#000000;\n",
    "            overflow:hidden;\n",
    "            font-weight:400\"><b>Load the Dataset</b>\n",
    "</div>"
   ]
  },
  {
   "cell_type": "code",
   "execution_count": 11,
   "id": "b0c5a2ca",
   "metadata": {
    "papermill": {
     "duration": 0.093165,
     "end_time": "2023-11-04T12:15:45.037398",
     "exception": false,
     "start_time": "2023-11-04T12:15:44.944233",
     "status": "completed"
    },
    "tags": []
   },
   "outputs": [
    {
     "data": {
      "text/html": [
       "<div>\n",
       "<style scoped>\n",
       "    .dataframe tbody tr th:only-of-type {\n",
       "        vertical-align: middle;\n",
       "    }\n",
       "\n",
       "    .dataframe tbody tr th {\n",
       "        vertical-align: top;\n",
       "    }\n",
       "\n",
       "    .dataframe thead th {\n",
       "        text-align: right;\n",
       "    }\n",
       "</style>\n",
       "<table border=\"1\" class=\"dataframe\">\n",
       "  <thead>\n",
       "    <tr style=\"text-align: right;\">\n",
       "      <th></th>\n",
       "      <th>Customer ID</th>\n",
       "      <th>Age</th>\n",
       "      <th>Gender</th>\n",
       "      <th>Item Purchased</th>\n",
       "      <th>Category</th>\n",
       "      <th>Purchase Amount (USD)</th>\n",
       "      <th>Location</th>\n",
       "      <th>Size</th>\n",
       "      <th>Color</th>\n",
       "      <th>Season</th>\n",
       "      <th>Review Rating</th>\n",
       "      <th>Subscription Status</th>\n",
       "      <th>Shipping Type</th>\n",
       "      <th>Discount Applied</th>\n",
       "      <th>Promo Code Used</th>\n",
       "      <th>Previous Purchases</th>\n",
       "      <th>Payment Method</th>\n",
       "      <th>Frequency of Purchases</th>\n",
       "    </tr>\n",
       "  </thead>\n",
       "  <tbody>\n",
       "    <tr>\n",
       "      <th>0</th>\n",
       "      <td>1</td>\n",
       "      <td>55</td>\n",
       "      <td>Male</td>\n",
       "      <td>Blouse</td>\n",
       "      <td>Clothing</td>\n",
       "      <td>53</td>\n",
       "      <td>Kentucky</td>\n",
       "      <td>L</td>\n",
       "      <td>Gray</td>\n",
       "      <td>Winter</td>\n",
       "      <td>3.1</td>\n",
       "      <td>Yes</td>\n",
       "      <td>Express</td>\n",
       "      <td>Yes</td>\n",
       "      <td>Yes</td>\n",
       "      <td>14</td>\n",
       "      <td>Venmo</td>\n",
       "      <td>Fortnightly</td>\n",
       "    </tr>\n",
       "    <tr>\n",
       "      <th>1</th>\n",
       "      <td>2</td>\n",
       "      <td>19</td>\n",
       "      <td>Male</td>\n",
       "      <td>Sweater</td>\n",
       "      <td>Clothing</td>\n",
       "      <td>64</td>\n",
       "      <td>Maine</td>\n",
       "      <td>L</td>\n",
       "      <td>Maroon</td>\n",
       "      <td>Winter</td>\n",
       "      <td>3.1</td>\n",
       "      <td>Yes</td>\n",
       "      <td>Express</td>\n",
       "      <td>Yes</td>\n",
       "      <td>Yes</td>\n",
       "      <td>2</td>\n",
       "      <td>Cash</td>\n",
       "      <td>Fortnightly</td>\n",
       "    </tr>\n",
       "    <tr>\n",
       "      <th>2</th>\n",
       "      <td>3</td>\n",
       "      <td>50</td>\n",
       "      <td>Male</td>\n",
       "      <td>Jeans</td>\n",
       "      <td>Clothing</td>\n",
       "      <td>73</td>\n",
       "      <td>Massachusetts</td>\n",
       "      <td>S</td>\n",
       "      <td>Maroon</td>\n",
       "      <td>Spring</td>\n",
       "      <td>3.1</td>\n",
       "      <td>Yes</td>\n",
       "      <td>Free Shipping</td>\n",
       "      <td>Yes</td>\n",
       "      <td>Yes</td>\n",
       "      <td>23</td>\n",
       "      <td>Credit Card</td>\n",
       "      <td>Weekly</td>\n",
       "    </tr>\n",
       "    <tr>\n",
       "      <th>3</th>\n",
       "      <td>4</td>\n",
       "      <td>21</td>\n",
       "      <td>Male</td>\n",
       "      <td>Sandals</td>\n",
       "      <td>Footwear</td>\n",
       "      <td>90</td>\n",
       "      <td>Rhode Island</td>\n",
       "      <td>M</td>\n",
       "      <td>Maroon</td>\n",
       "      <td>Spring</td>\n",
       "      <td>3.5</td>\n",
       "      <td>Yes</td>\n",
       "      <td>Next Day Air</td>\n",
       "      <td>Yes</td>\n",
       "      <td>Yes</td>\n",
       "      <td>49</td>\n",
       "      <td>PayPal</td>\n",
       "      <td>Weekly</td>\n",
       "    </tr>\n",
       "    <tr>\n",
       "      <th>4</th>\n",
       "      <td>5</td>\n",
       "      <td>45</td>\n",
       "      <td>Male</td>\n",
       "      <td>Blouse</td>\n",
       "      <td>Clothing</td>\n",
       "      <td>49</td>\n",
       "      <td>Oregon</td>\n",
       "      <td>M</td>\n",
       "      <td>Turquoise</td>\n",
       "      <td>Spring</td>\n",
       "      <td>2.7</td>\n",
       "      <td>Yes</td>\n",
       "      <td>Free Shipping</td>\n",
       "      <td>Yes</td>\n",
       "      <td>Yes</td>\n",
       "      <td>31</td>\n",
       "      <td>PayPal</td>\n",
       "      <td>Annually</td>\n",
       "    </tr>\n",
       "    <tr>\n",
       "      <th>...</th>\n",
       "      <td>...</td>\n",
       "      <td>...</td>\n",
       "      <td>...</td>\n",
       "      <td>...</td>\n",
       "      <td>...</td>\n",
       "      <td>...</td>\n",
       "      <td>...</td>\n",
       "      <td>...</td>\n",
       "      <td>...</td>\n",
       "      <td>...</td>\n",
       "      <td>...</td>\n",
       "      <td>...</td>\n",
       "      <td>...</td>\n",
       "      <td>...</td>\n",
       "      <td>...</td>\n",
       "      <td>...</td>\n",
       "      <td>...</td>\n",
       "      <td>...</td>\n",
       "    </tr>\n",
       "    <tr>\n",
       "      <th>3895</th>\n",
       "      <td>3896</td>\n",
       "      <td>40</td>\n",
       "      <td>Female</td>\n",
       "      <td>Hoodie</td>\n",
       "      <td>Clothing</td>\n",
       "      <td>28</td>\n",
       "      <td>Virginia</td>\n",
       "      <td>L</td>\n",
       "      <td>Turquoise</td>\n",
       "      <td>Summer</td>\n",
       "      <td>4.2</td>\n",
       "      <td>No</td>\n",
       "      <td>2-Day Shipping</td>\n",
       "      <td>No</td>\n",
       "      <td>No</td>\n",
       "      <td>32</td>\n",
       "      <td>Venmo</td>\n",
       "      <td>Weekly</td>\n",
       "    </tr>\n",
       "    <tr>\n",
       "      <th>3896</th>\n",
       "      <td>3897</td>\n",
       "      <td>52</td>\n",
       "      <td>Female</td>\n",
       "      <td>Backpack</td>\n",
       "      <td>Accessories</td>\n",
       "      <td>49</td>\n",
       "      <td>Iowa</td>\n",
       "      <td>L</td>\n",
       "      <td>White</td>\n",
       "      <td>Spring</td>\n",
       "      <td>4.5</td>\n",
       "      <td>No</td>\n",
       "      <td>Store Pickup</td>\n",
       "      <td>No</td>\n",
       "      <td>No</td>\n",
       "      <td>41</td>\n",
       "      <td>Bank Transfer</td>\n",
       "      <td>Bi-Weekly</td>\n",
       "    </tr>\n",
       "    <tr>\n",
       "      <th>3897</th>\n",
       "      <td>3898</td>\n",
       "      <td>46</td>\n",
       "      <td>Female</td>\n",
       "      <td>Belt</td>\n",
       "      <td>Accessories</td>\n",
       "      <td>33</td>\n",
       "      <td>New Jersey</td>\n",
       "      <td>L</td>\n",
       "      <td>Green</td>\n",
       "      <td>Spring</td>\n",
       "      <td>2.9</td>\n",
       "      <td>No</td>\n",
       "      <td>Standard</td>\n",
       "      <td>No</td>\n",
       "      <td>No</td>\n",
       "      <td>24</td>\n",
       "      <td>Venmo</td>\n",
       "      <td>Quarterly</td>\n",
       "    </tr>\n",
       "    <tr>\n",
       "      <th>3898</th>\n",
       "      <td>3899</td>\n",
       "      <td>44</td>\n",
       "      <td>Female</td>\n",
       "      <td>Shoes</td>\n",
       "      <td>Footwear</td>\n",
       "      <td>77</td>\n",
       "      <td>Minnesota</td>\n",
       "      <td>S</td>\n",
       "      <td>Brown</td>\n",
       "      <td>Summer</td>\n",
       "      <td>3.8</td>\n",
       "      <td>No</td>\n",
       "      <td>Express</td>\n",
       "      <td>No</td>\n",
       "      <td>No</td>\n",
       "      <td>24</td>\n",
       "      <td>Venmo</td>\n",
       "      <td>Weekly</td>\n",
       "    </tr>\n",
       "    <tr>\n",
       "      <th>3899</th>\n",
       "      <td>3900</td>\n",
       "      <td>52</td>\n",
       "      <td>Female</td>\n",
       "      <td>Handbag</td>\n",
       "      <td>Accessories</td>\n",
       "      <td>81</td>\n",
       "      <td>California</td>\n",
       "      <td>M</td>\n",
       "      <td>Beige</td>\n",
       "      <td>Spring</td>\n",
       "      <td>3.1</td>\n",
       "      <td>No</td>\n",
       "      <td>Store Pickup</td>\n",
       "      <td>No</td>\n",
       "      <td>No</td>\n",
       "      <td>33</td>\n",
       "      <td>Venmo</td>\n",
       "      <td>Quarterly</td>\n",
       "    </tr>\n",
       "  </tbody>\n",
       "</table>\n",
       "<p>3900 rows × 18 columns</p>\n",
       "</div>"
      ],
      "text/plain": [
       "      Customer ID  Age  Gender Item Purchased     Category  \\\n",
       "0               1   55    Male         Blouse     Clothing   \n",
       "1               2   19    Male        Sweater     Clothing   \n",
       "2               3   50    Male          Jeans     Clothing   \n",
       "3               4   21    Male        Sandals     Footwear   \n",
       "4               5   45    Male         Blouse     Clothing   \n",
       "...           ...  ...     ...            ...          ...   \n",
       "3895         3896   40  Female         Hoodie     Clothing   \n",
       "3896         3897   52  Female       Backpack  Accessories   \n",
       "3897         3898   46  Female           Belt  Accessories   \n",
       "3898         3899   44  Female          Shoes     Footwear   \n",
       "3899         3900   52  Female        Handbag  Accessories   \n",
       "\n",
       "      Purchase Amount (USD)       Location Size      Color  Season  \\\n",
       "0                        53       Kentucky    L       Gray  Winter   \n",
       "1                        64          Maine    L     Maroon  Winter   \n",
       "2                        73  Massachusetts    S     Maroon  Spring   \n",
       "3                        90   Rhode Island    M     Maroon  Spring   \n",
       "4                        49         Oregon    M  Turquoise  Spring   \n",
       "...                     ...            ...  ...        ...     ...   \n",
       "3895                     28       Virginia    L  Turquoise  Summer   \n",
       "3896                     49           Iowa    L      White  Spring   \n",
       "3897                     33     New Jersey    L      Green  Spring   \n",
       "3898                     77      Minnesota    S      Brown  Summer   \n",
       "3899                     81     California    M      Beige  Spring   \n",
       "\n",
       "      Review Rating Subscription Status   Shipping Type Discount Applied  \\\n",
       "0               3.1                 Yes         Express              Yes   \n",
       "1               3.1                 Yes         Express              Yes   \n",
       "2               3.1                 Yes   Free Shipping              Yes   \n",
       "3               3.5                 Yes    Next Day Air              Yes   \n",
       "4               2.7                 Yes   Free Shipping              Yes   \n",
       "...             ...                 ...             ...              ...   \n",
       "3895            4.2                  No  2-Day Shipping               No   \n",
       "3896            4.5                  No    Store Pickup               No   \n",
       "3897            2.9                  No        Standard               No   \n",
       "3898            3.8                  No         Express               No   \n",
       "3899            3.1                  No    Store Pickup               No   \n",
       "\n",
       "     Promo Code Used  Previous Purchases Payment Method Frequency of Purchases  \n",
       "0                Yes                  14          Venmo            Fortnightly  \n",
       "1                Yes                   2           Cash            Fortnightly  \n",
       "2                Yes                  23    Credit Card                 Weekly  \n",
       "3                Yes                  49         PayPal                 Weekly  \n",
       "4                Yes                  31         PayPal               Annually  \n",
       "...              ...                 ...            ...                    ...  \n",
       "3895              No                  32          Venmo                 Weekly  \n",
       "3896              No                  41  Bank Transfer              Bi-Weekly  \n",
       "3897              No                  24          Venmo              Quarterly  \n",
       "3898              No                  24          Venmo                 Weekly  \n",
       "3899              No                  33          Venmo              Quarterly  \n",
       "\n",
       "[3900 rows x 18 columns]"
      ]
     },
     "execution_count": 11,
     "metadata": {},
     "output_type": "execute_result"
    }
   ],
   "source": [
    "df = pd.read_csv(\"shopping.csv\")\n",
    "\n",
    "df\n"
   ]
  },
  {
   "cell_type": "markdown",
   "id": "a974a86c",
   "metadata": {},
   "source": [
    "### Exercise 1: Provide background information on the data set provided following the questions below\t(2 marks)\n",
    "- a) Determine the number of rows and columns in the Dataset\n",
    "- b) Provide some Information about the Dataset\n",
    "- c) Check if there are any null values present in the dataset or not?\n",
    "- d) Check if there are any duplicate values present in the dataset or not?\n"
   ]
  },
  {
   "cell_type": "markdown",
   "id": "5f6cee2c",
   "metadata": {
    "papermill": {
     "duration": 0.0244,
     "end_time": "2023-11-04T12:15:45.087301",
     "exception": false,
     "start_time": "2023-11-04T12:15:45.062901",
     "status": "completed"
    },
    "tags": []
   },
   "source": [
    "<div style=\"padding:10px;\n",
    "            color:#E55604;\n",
    "            margin:10px;\n",
    "            font-size:130%;\n",
    "            display:fill;\n",
    "            border-radius:5px;\n",
    "            border-style: solid;\n",
    "            border-color: #FF9B50;\n",
    "            background-color:#000000;\n",
    "            overflow:hidden;\n",
    "            font-weight:400\"><b>Check the shape of the Dataset</b>\n",
    "</div>"
   ]
  },
  {
   "cell_type": "code",
   "execution_count": 3,
   "id": "47f85482",
   "metadata": {
    "papermill": {
     "duration": 0.034576,
     "end_time": "2023-11-04T12:15:45.146462",
     "exception": false,
     "start_time": "2023-11-04T12:15:45.111886",
     "status": "completed"
    },
    "tags": []
   },
   "outputs": [
    {
     "data": {
      "text/plain": [
       "(3900, 18)"
      ]
     },
     "execution_count": 3,
     "metadata": {},
     "output_type": "execute_result"
    }
   ],
   "source": [
    "df.shape"
   ]
  },
  {
   "cell_type": "markdown",
   "id": "2a9c1c16",
   "metadata": {
    "papermill": {
     "duration": 0.026398,
     "end_time": "2023-11-04T12:15:45.200438",
     "exception": false,
     "start_time": "2023-11-04T12:15:45.174040",
     "status": "completed"
    },
    "tags": []
   },
   "source": [
    "<div style=\"padding:10px;\n",
    "            color:#E55604;\n",
    "            margin:10px;\n",
    "            font-size:130%;\n",
    "            display:fill;\n",
    "            border-radius:5px;\n",
    "            border-style: solid;\n",
    "            border-color: #FF9B50;\n",
    "            background-color:#000000;\n",
    "            overflow:hidden;\n",
    "            font-weight:400\"><b>Checking the number of Columns in the Dataset</b>\n",
    "</div>"
   ]
  },
  {
   "cell_type": "code",
   "execution_count": 4,
   "id": "fb37cff7",
   "metadata": {
    "papermill": {
     "duration": 0.03654,
     "end_time": "2023-11-04T12:15:45.262864",
     "exception": false,
     "start_time": "2023-11-04T12:15:45.226324",
     "status": "completed"
    },
    "tags": []
   },
   "outputs": [
    {
     "data": {
      "text/plain": [
       "Index(['Customer ID', 'Age', 'Gender', 'Item Purchased', 'Category',\n",
       "       'Purchase Amount (USD)', 'Location', 'Size', 'Color', 'Season',\n",
       "       'Review Rating', 'Subscription Status', 'Shipping Type',\n",
       "       'Discount Applied', 'Promo Code Used', 'Previous Purchases',\n",
       "       'Payment Method', 'Frequency of Purchases'],\n",
       "      dtype='object')"
      ]
     },
     "execution_count": 4,
     "metadata": {},
     "output_type": "execute_result"
    }
   ],
   "source": [
    "df.columns"
   ]
  },
  {
   "cell_type": "markdown",
   "id": "5f955f74",
   "metadata": {
    "papermill": {
     "duration": 0.024653,
     "end_time": "2023-11-04T12:15:45.313623",
     "exception": false,
     "start_time": "2023-11-04T12:15:45.288970",
     "status": "completed"
    },
    "tags": []
   },
   "source": [
    "<div style=\"padding:10px;\n",
    "            color:#E55604;\n",
    "            margin:10px;\n",
    "            font-size:130%;\n",
    "            display:fill;\n",
    "            border-radius:5px;\n",
    "            border-style: solid;\n",
    "            border-color: #FF9B50;\n",
    "            background-color:#000000;\n",
    "            overflow:hidden;\n",
    "            font-weight:400\"><b>Information about the Dataset</b>\n",
    "</div>"
   ]
  },
  {
   "cell_type": "code",
   "execution_count": 5,
   "id": "35bd3b88",
   "metadata": {
    "papermill": {
     "duration": 0.053989,
     "end_time": "2023-11-04T12:15:45.392025",
     "exception": false,
     "start_time": "2023-11-04T12:15:45.338036",
     "status": "completed"
    },
    "tags": []
   },
   "outputs": [
    {
     "name": "stdout",
     "output_type": "stream",
     "text": [
      "       Customer ID          Age  Purchase Amount (USD)  Review Rating  \\\n",
      "count  3900.000000  3900.000000            3900.000000    3900.000000   \n",
      "mean   1950.500000    44.068462              59.764359       3.749949   \n",
      "std    1125.977353    15.207589              23.685392       0.716223   \n",
      "min       1.000000    18.000000              20.000000       2.500000   \n",
      "25%     975.750000    31.000000              39.000000       3.100000   \n",
      "50%    1950.500000    44.000000              60.000000       3.700000   \n",
      "75%    2925.250000    57.000000              81.000000       4.400000   \n",
      "max    3900.000000    70.000000             100.000000       5.000000   \n",
      "\n",
      "       Previous Purchases  \n",
      "count         3900.000000  \n",
      "mean            25.351538  \n",
      "std             14.447125  \n",
      "min              1.000000  \n",
      "25%             13.000000  \n",
      "50%             25.000000  \n",
      "75%             38.000000  \n",
      "max             50.000000  \n",
      "<class 'pandas.core.frame.DataFrame'>\n",
      "RangeIndex: 3900 entries, 0 to 3899\n",
      "Data columns (total 18 columns):\n",
      " #   Column                  Non-Null Count  Dtype  \n",
      "---  ------                  --------------  -----  \n",
      " 0   Customer ID             3900 non-null   int64  \n",
      " 1   Age                     3900 non-null   int64  \n",
      " 2   Gender                  3900 non-null   object \n",
      " 3   Item Purchased          3900 non-null   object \n",
      " 4   Category                3900 non-null   object \n",
      " 5   Purchase Amount (USD)   3900 non-null   int64  \n",
      " 6   Location                3900 non-null   object \n",
      " 7   Size                    3900 non-null   object \n",
      " 8   Color                   3900 non-null   object \n",
      " 9   Season                  3900 non-null   object \n",
      " 10  Review Rating           3900 non-null   float64\n",
      " 11  Subscription Status     3900 non-null   object \n",
      " 12  Shipping Type           3900 non-null   object \n",
      " 13  Discount Applied        3900 non-null   object \n",
      " 14  Promo Code Used         3900 non-null   object \n",
      " 15  Previous Purchases      3900 non-null   int64  \n",
      " 16  Payment Method          3900 non-null   object \n",
      " 17  Frequency of Purchases  3900 non-null   object \n",
      "dtypes: float64(1), int64(4), object(13)\n",
      "memory usage: 548.6+ KB\n",
      "None\n"
     ]
    }
   ],
   "source": [
    "print(df.describe())\n",
    "\n",
    "print(df.info())"
   ]
  },
  {
   "cell_type": "code",
   "execution_count": null,
   "id": "7ad58db6",
   "metadata": {
    "execution": {
     "iopub.execute_input": "2023-11-04T12:15:45.444522Z",
     "iopub.status.busy": "2023-11-04T12:15:45.443561Z",
     "iopub.status.idle": "2023-11-04T12:15:45.465490Z",
     "shell.execute_reply": "2023-11-04T12:15:45.464744Z"
    },
    "papermill": {
     "duration": 0.049906,
     "end_time": "2023-11-04T12:15:45.467069",
     "exception": false,
     "start_time": "2023-11-04T12:15:45.417163",
     "status": "completed"
    },
    "tags": []
   },
   "outputs": [],
   "source": []
  },
  {
   "cell_type": "markdown",
   "id": "e043d70e",
   "metadata": {
    "papermill": {
     "duration": 0.024556,
     "end_time": "2023-11-04T12:15:45.517107",
     "exception": false,
     "start_time": "2023-11-04T12:15:45.492551",
     "status": "completed"
    },
    "tags": []
   },
   "source": [
    "<div style=\"padding:10px;\n",
    "            color:#E55604;\n",
    "            margin:10px;\n",
    "            font-size:130%;\n",
    "            display:fill;\n",
    "            border-radius:5px;\n",
    "            border-style: solid;\n",
    "            border-color: #FF9B50;\n",
    "            background-color:#000000;\n",
    "            overflow:hidden;\n",
    "            font-weight:400\"><b>Checking if there are any null values present in the dataset or not ?</b>\n",
    "</div>"
   ]
  },
  {
   "cell_type": "code",
   "execution_count": 6,
   "id": "d89e65ef",
   "metadata": {
    "papermill": {
     "duration": 0.038169,
     "end_time": "2023-11-04T12:15:45.579764",
     "exception": false,
     "start_time": "2023-11-04T12:15:45.541595",
     "status": "completed"
    },
    "tags": []
   },
   "outputs": [
    {
     "data": {
      "text/html": [
       "<div>\n",
       "<style scoped>\n",
       "    .dataframe tbody tr th:only-of-type {\n",
       "        vertical-align: middle;\n",
       "    }\n",
       "\n",
       "    .dataframe tbody tr th {\n",
       "        vertical-align: top;\n",
       "    }\n",
       "\n",
       "    .dataframe thead th {\n",
       "        text-align: right;\n",
       "    }\n",
       "</style>\n",
       "<table border=\"1\" class=\"dataframe\">\n",
       "  <thead>\n",
       "    <tr style=\"text-align: right;\">\n",
       "      <th></th>\n",
       "      <th>Customer ID</th>\n",
       "      <th>Age</th>\n",
       "      <th>Gender</th>\n",
       "      <th>Item Purchased</th>\n",
       "      <th>Category</th>\n",
       "      <th>Purchase Amount (USD)</th>\n",
       "      <th>Location</th>\n",
       "      <th>Size</th>\n",
       "      <th>Color</th>\n",
       "      <th>Season</th>\n",
       "      <th>Review Rating</th>\n",
       "      <th>Subscription Status</th>\n",
       "      <th>Shipping Type</th>\n",
       "      <th>Discount Applied</th>\n",
       "      <th>Promo Code Used</th>\n",
       "      <th>Previous Purchases</th>\n",
       "      <th>Payment Method</th>\n",
       "      <th>Frequency of Purchases</th>\n",
       "    </tr>\n",
       "  </thead>\n",
       "  <tbody>\n",
       "    <tr>\n",
       "      <th>0</th>\n",
       "      <td>False</td>\n",
       "      <td>False</td>\n",
       "      <td>False</td>\n",
       "      <td>False</td>\n",
       "      <td>False</td>\n",
       "      <td>False</td>\n",
       "      <td>False</td>\n",
       "      <td>False</td>\n",
       "      <td>False</td>\n",
       "      <td>False</td>\n",
       "      <td>False</td>\n",
       "      <td>False</td>\n",
       "      <td>False</td>\n",
       "      <td>False</td>\n",
       "      <td>False</td>\n",
       "      <td>False</td>\n",
       "      <td>False</td>\n",
       "      <td>False</td>\n",
       "    </tr>\n",
       "    <tr>\n",
       "      <th>1</th>\n",
       "      <td>False</td>\n",
       "      <td>False</td>\n",
       "      <td>False</td>\n",
       "      <td>False</td>\n",
       "      <td>False</td>\n",
       "      <td>False</td>\n",
       "      <td>False</td>\n",
       "      <td>False</td>\n",
       "      <td>False</td>\n",
       "      <td>False</td>\n",
       "      <td>False</td>\n",
       "      <td>False</td>\n",
       "      <td>False</td>\n",
       "      <td>False</td>\n",
       "      <td>False</td>\n",
       "      <td>False</td>\n",
       "      <td>False</td>\n",
       "      <td>False</td>\n",
       "    </tr>\n",
       "    <tr>\n",
       "      <th>2</th>\n",
       "      <td>False</td>\n",
       "      <td>False</td>\n",
       "      <td>False</td>\n",
       "      <td>False</td>\n",
       "      <td>False</td>\n",
       "      <td>False</td>\n",
       "      <td>False</td>\n",
       "      <td>False</td>\n",
       "      <td>False</td>\n",
       "      <td>False</td>\n",
       "      <td>False</td>\n",
       "      <td>False</td>\n",
       "      <td>False</td>\n",
       "      <td>False</td>\n",
       "      <td>False</td>\n",
       "      <td>False</td>\n",
       "      <td>False</td>\n",
       "      <td>False</td>\n",
       "    </tr>\n",
       "    <tr>\n",
       "      <th>3</th>\n",
       "      <td>False</td>\n",
       "      <td>False</td>\n",
       "      <td>False</td>\n",
       "      <td>False</td>\n",
       "      <td>False</td>\n",
       "      <td>False</td>\n",
       "      <td>False</td>\n",
       "      <td>False</td>\n",
       "      <td>False</td>\n",
       "      <td>False</td>\n",
       "      <td>False</td>\n",
       "      <td>False</td>\n",
       "      <td>False</td>\n",
       "      <td>False</td>\n",
       "      <td>False</td>\n",
       "      <td>False</td>\n",
       "      <td>False</td>\n",
       "      <td>False</td>\n",
       "    </tr>\n",
       "    <tr>\n",
       "      <th>4</th>\n",
       "      <td>False</td>\n",
       "      <td>False</td>\n",
       "      <td>False</td>\n",
       "      <td>False</td>\n",
       "      <td>False</td>\n",
       "      <td>False</td>\n",
       "      <td>False</td>\n",
       "      <td>False</td>\n",
       "      <td>False</td>\n",
       "      <td>False</td>\n",
       "      <td>False</td>\n",
       "      <td>False</td>\n",
       "      <td>False</td>\n",
       "      <td>False</td>\n",
       "      <td>False</td>\n",
       "      <td>False</td>\n",
       "      <td>False</td>\n",
       "      <td>False</td>\n",
       "    </tr>\n",
       "    <tr>\n",
       "      <th>...</th>\n",
       "      <td>...</td>\n",
       "      <td>...</td>\n",
       "      <td>...</td>\n",
       "      <td>...</td>\n",
       "      <td>...</td>\n",
       "      <td>...</td>\n",
       "      <td>...</td>\n",
       "      <td>...</td>\n",
       "      <td>...</td>\n",
       "      <td>...</td>\n",
       "      <td>...</td>\n",
       "      <td>...</td>\n",
       "      <td>...</td>\n",
       "      <td>...</td>\n",
       "      <td>...</td>\n",
       "      <td>...</td>\n",
       "      <td>...</td>\n",
       "      <td>...</td>\n",
       "    </tr>\n",
       "    <tr>\n",
       "      <th>3895</th>\n",
       "      <td>False</td>\n",
       "      <td>False</td>\n",
       "      <td>False</td>\n",
       "      <td>False</td>\n",
       "      <td>False</td>\n",
       "      <td>False</td>\n",
       "      <td>False</td>\n",
       "      <td>False</td>\n",
       "      <td>False</td>\n",
       "      <td>False</td>\n",
       "      <td>False</td>\n",
       "      <td>False</td>\n",
       "      <td>False</td>\n",
       "      <td>False</td>\n",
       "      <td>False</td>\n",
       "      <td>False</td>\n",
       "      <td>False</td>\n",
       "      <td>False</td>\n",
       "    </tr>\n",
       "    <tr>\n",
       "      <th>3896</th>\n",
       "      <td>False</td>\n",
       "      <td>False</td>\n",
       "      <td>False</td>\n",
       "      <td>False</td>\n",
       "      <td>False</td>\n",
       "      <td>False</td>\n",
       "      <td>False</td>\n",
       "      <td>False</td>\n",
       "      <td>False</td>\n",
       "      <td>False</td>\n",
       "      <td>False</td>\n",
       "      <td>False</td>\n",
       "      <td>False</td>\n",
       "      <td>False</td>\n",
       "      <td>False</td>\n",
       "      <td>False</td>\n",
       "      <td>False</td>\n",
       "      <td>False</td>\n",
       "    </tr>\n",
       "    <tr>\n",
       "      <th>3897</th>\n",
       "      <td>False</td>\n",
       "      <td>False</td>\n",
       "      <td>False</td>\n",
       "      <td>False</td>\n",
       "      <td>False</td>\n",
       "      <td>False</td>\n",
       "      <td>False</td>\n",
       "      <td>False</td>\n",
       "      <td>False</td>\n",
       "      <td>False</td>\n",
       "      <td>False</td>\n",
       "      <td>False</td>\n",
       "      <td>False</td>\n",
       "      <td>False</td>\n",
       "      <td>False</td>\n",
       "      <td>False</td>\n",
       "      <td>False</td>\n",
       "      <td>False</td>\n",
       "    </tr>\n",
       "    <tr>\n",
       "      <th>3898</th>\n",
       "      <td>False</td>\n",
       "      <td>False</td>\n",
       "      <td>False</td>\n",
       "      <td>False</td>\n",
       "      <td>False</td>\n",
       "      <td>False</td>\n",
       "      <td>False</td>\n",
       "      <td>False</td>\n",
       "      <td>False</td>\n",
       "      <td>False</td>\n",
       "      <td>False</td>\n",
       "      <td>False</td>\n",
       "      <td>False</td>\n",
       "      <td>False</td>\n",
       "      <td>False</td>\n",
       "      <td>False</td>\n",
       "      <td>False</td>\n",
       "      <td>False</td>\n",
       "    </tr>\n",
       "    <tr>\n",
       "      <th>3899</th>\n",
       "      <td>False</td>\n",
       "      <td>False</td>\n",
       "      <td>False</td>\n",
       "      <td>False</td>\n",
       "      <td>False</td>\n",
       "      <td>False</td>\n",
       "      <td>False</td>\n",
       "      <td>False</td>\n",
       "      <td>False</td>\n",
       "      <td>False</td>\n",
       "      <td>False</td>\n",
       "      <td>False</td>\n",
       "      <td>False</td>\n",
       "      <td>False</td>\n",
       "      <td>False</td>\n",
       "      <td>False</td>\n",
       "      <td>False</td>\n",
       "      <td>False</td>\n",
       "    </tr>\n",
       "  </tbody>\n",
       "</table>\n",
       "<p>3900 rows × 18 columns</p>\n",
       "</div>"
      ],
      "text/plain": [
       "      Customer ID    Age  Gender  Item Purchased  Category  \\\n",
       "0           False  False   False           False     False   \n",
       "1           False  False   False           False     False   \n",
       "2           False  False   False           False     False   \n",
       "3           False  False   False           False     False   \n",
       "4           False  False   False           False     False   \n",
       "...           ...    ...     ...             ...       ...   \n",
       "3895        False  False   False           False     False   \n",
       "3896        False  False   False           False     False   \n",
       "3897        False  False   False           False     False   \n",
       "3898        False  False   False           False     False   \n",
       "3899        False  False   False           False     False   \n",
       "\n",
       "      Purchase Amount (USD)  Location   Size  Color  Season  Review Rating  \\\n",
       "0                     False     False  False  False   False          False   \n",
       "1                     False     False  False  False   False          False   \n",
       "2                     False     False  False  False   False          False   \n",
       "3                     False     False  False  False   False          False   \n",
       "4                     False     False  False  False   False          False   \n",
       "...                     ...       ...    ...    ...     ...            ...   \n",
       "3895                  False     False  False  False   False          False   \n",
       "3896                  False     False  False  False   False          False   \n",
       "3897                  False     False  False  False   False          False   \n",
       "3898                  False     False  False  False   False          False   \n",
       "3899                  False     False  False  False   False          False   \n",
       "\n",
       "      Subscription Status  Shipping Type  Discount Applied  Promo Code Used  \\\n",
       "0                   False          False             False            False   \n",
       "1                   False          False             False            False   \n",
       "2                   False          False             False            False   \n",
       "3                   False          False             False            False   \n",
       "4                   False          False             False            False   \n",
       "...                   ...            ...               ...              ...   \n",
       "3895                False          False             False            False   \n",
       "3896                False          False             False            False   \n",
       "3897                False          False             False            False   \n",
       "3898                False          False             False            False   \n",
       "3899                False          False             False            False   \n",
       "\n",
       "      Previous Purchases  Payment Method  Frequency of Purchases  \n",
       "0                  False           False                   False  \n",
       "1                  False           False                   False  \n",
       "2                  False           False                   False  \n",
       "3                  False           False                   False  \n",
       "4                  False           False                   False  \n",
       "...                  ...             ...                     ...  \n",
       "3895               False           False                   False  \n",
       "3896               False           False                   False  \n",
       "3897               False           False                   False  \n",
       "3898               False           False                   False  \n",
       "3899               False           False                   False  \n",
       "\n",
       "[3900 rows x 18 columns]"
      ]
     },
     "execution_count": 6,
     "metadata": {},
     "output_type": "execute_result"
    }
   ],
   "source": [
    "df.isnull()"
   ]
  },
  {
   "cell_type": "markdown",
   "id": "327b6e9b",
   "metadata": {
    "papermill": {
     "duration": 0.027956,
     "end_time": "2023-11-04T12:15:45.634520",
     "exception": false,
     "start_time": "2023-11-04T12:15:45.606564",
     "status": "completed"
    },
    "tags": []
   },
   "source": [
    "<div style=\"padding:10px;\n",
    "            color:#E55604;\n",
    "            margin:10px;\n",
    "            font-size:130%;\n",
    "            display:fill;\n",
    "            border-radius:5px;\n",
    "            border-style: solid;\n",
    "            border-color: #FF9B50;\n",
    "            background-color:#000000;\n",
    "            overflow:hidden;\n",
    "            font-weight:400\"><b>Checking if there are any duplicate values present in the dataset or not ?</b>\n",
    "</div>"
   ]
  },
  {
   "cell_type": "code",
   "execution_count": 7,
   "id": "f58a5f42",
   "metadata": {
    "papermill": {
     "duration": 0.04553,
     "end_time": "2023-11-04T12:15:45.706472",
     "exception": false,
     "start_time": "2023-11-04T12:15:45.660942",
     "status": "completed"
    },
    "tags": []
   },
   "outputs": [
    {
     "data": {
      "text/plain": [
       "<bound method DataFrame.duplicated of       Customer ID  Age  Gender Item Purchased     Category  \\\n",
       "0               1   55    Male         Blouse     Clothing   \n",
       "1               2   19    Male        Sweater     Clothing   \n",
       "2               3   50    Male          Jeans     Clothing   \n",
       "3               4   21    Male        Sandals     Footwear   \n",
       "4               5   45    Male         Blouse     Clothing   \n",
       "...           ...  ...     ...            ...          ...   \n",
       "3895         3896   40  Female         Hoodie     Clothing   \n",
       "3896         3897   52  Female       Backpack  Accessories   \n",
       "3897         3898   46  Female           Belt  Accessories   \n",
       "3898         3899   44  Female          Shoes     Footwear   \n",
       "3899         3900   52  Female        Handbag  Accessories   \n",
       "\n",
       "      Purchase Amount (USD)       Location Size      Color  Season  \\\n",
       "0                        53       Kentucky    L       Gray  Winter   \n",
       "1                        64          Maine    L     Maroon  Winter   \n",
       "2                        73  Massachusetts    S     Maroon  Spring   \n",
       "3                        90   Rhode Island    M     Maroon  Spring   \n",
       "4                        49         Oregon    M  Turquoise  Spring   \n",
       "...                     ...            ...  ...        ...     ...   \n",
       "3895                     28       Virginia    L  Turquoise  Summer   \n",
       "3896                     49           Iowa    L      White  Spring   \n",
       "3897                     33     New Jersey    L      Green  Spring   \n",
       "3898                     77      Minnesota    S      Brown  Summer   \n",
       "3899                     81     California    M      Beige  Spring   \n",
       "\n",
       "      Review Rating Subscription Status   Shipping Type Discount Applied  \\\n",
       "0               3.1                 Yes         Express              Yes   \n",
       "1               3.1                 Yes         Express              Yes   \n",
       "2               3.1                 Yes   Free Shipping              Yes   \n",
       "3               3.5                 Yes    Next Day Air              Yes   \n",
       "4               2.7                 Yes   Free Shipping              Yes   \n",
       "...             ...                 ...             ...              ...   \n",
       "3895            4.2                  No  2-Day Shipping               No   \n",
       "3896            4.5                  No    Store Pickup               No   \n",
       "3897            2.9                  No        Standard               No   \n",
       "3898            3.8                  No         Express               No   \n",
       "3899            3.1                  No    Store Pickup               No   \n",
       "\n",
       "     Promo Code Used  Previous Purchases Payment Method Frequency of Purchases  \n",
       "0                Yes                  14          Venmo            Fortnightly  \n",
       "1                Yes                   2           Cash            Fortnightly  \n",
       "2                Yes                  23    Credit Card                 Weekly  \n",
       "3                Yes                  49         PayPal                 Weekly  \n",
       "4                Yes                  31         PayPal               Annually  \n",
       "...              ...                 ...            ...                    ...  \n",
       "3895              No                  32          Venmo                 Weekly  \n",
       "3896              No                  41  Bank Transfer              Bi-Weekly  \n",
       "3897              No                  24          Venmo              Quarterly  \n",
       "3898              No                  24          Venmo                 Weekly  \n",
       "3899              No                  33          Venmo              Quarterly  \n",
       "\n",
       "[3900 rows x 18 columns]>"
      ]
     },
     "execution_count": 7,
     "metadata": {},
     "output_type": "execute_result"
    }
   ],
   "source": [
    "df.duplicated"
   ]
  },
  {
   "cell_type": "markdown",
   "id": "79255434",
   "metadata": {},
   "source": [
    "### Exercise 2: Perform the following operations\t\t\t\t(5 marks)\n",
    "- a) Determine the number of items purchased per a given category of the items. \n",
    "- b) What are the various sizes of fashion clothing sold and locations from where clients purchase from? \n",
    "- c) Determine the number of people who have and haven’t subscribed? Also determine their preferred method of payment. \n",
    "- d) How frequent are purchases made? \n"
   ]
  },
  {
   "cell_type": "code",
   "execution_count": 8,
   "id": "d2b4b996",
   "metadata": {
    "papermill": {
     "duration": 0.040857,
     "end_time": "2023-11-04T12:15:46.821431",
     "exception": false,
     "start_time": "2023-11-04T12:15:46.780574",
     "status": "completed"
    },
    "tags": []
   },
   "outputs": [
    {
     "name": "stdout",
     "output_type": "stream",
     "text": [
      "Category\n",
      "Clothing       1737\n",
      "Accessories    1240\n",
      "Footwear        599\n",
      "Outerwear       324\n",
      "Name: count, dtype: int64\n"
     ]
    }
   ],
   "source": [
    "category_counts = df['Category'].value_counts()\n",
    "\n",
    "# Display the result\n",
    "print(category_counts)"
   ]
  },
  {
   "cell_type": "code",
   "execution_count": null,
   "id": "bcc46b69",
   "metadata": {
    "execution": {
     "iopub.execute_input": "2023-11-04T12:15:47.435180Z",
     "iopub.status.busy": "2023-11-04T12:15:47.434144Z",
     "iopub.status.idle": "2023-11-04T12:15:47.444536Z",
     "shell.execute_reply": "2023-11-04T12:15:47.443592Z"
    },
    "papermill": {
     "duration": 0.041602,
     "end_time": "2023-11-04T12:15:47.446287",
     "exception": false,
     "start_time": "2023-11-04T12:15:47.404685",
     "status": "completed"
    },
    "tags": []
   },
   "outputs": [],
   "source": []
  },
  {
   "cell_type": "code",
   "execution_count": null,
   "id": "3a9351f6",
   "metadata": {
    "execution": {
     "iopub.execute_input": "2023-11-04T12:15:48.007947Z",
     "iopub.status.busy": "2023-11-04T12:15:48.007068Z",
     "iopub.status.idle": "2023-11-04T12:15:48.015660Z",
     "shell.execute_reply": "2023-11-04T12:15:48.014678Z"
    },
    "papermill": {
     "duration": 0.041099,
     "end_time": "2023-11-04T12:15:48.017190",
     "exception": false,
     "start_time": "2023-11-04T12:15:47.976091",
     "status": "completed"
    },
    "tags": []
   },
   "outputs": [],
   "source": []
  },
  {
   "cell_type": "code",
   "execution_count": null,
   "id": "9ec3f957",
   "metadata": {
    "execution": {
     "iopub.execute_input": "2023-11-04T12:15:50.182003Z",
     "iopub.status.busy": "2023-11-04T12:15:50.181407Z",
     "iopub.status.idle": "2023-11-04T12:15:50.189836Z",
     "shell.execute_reply": "2023-11-04T12:15:50.188814Z"
    },
    "papermill": {
     "duration": 0.047302,
     "end_time": "2023-11-04T12:15:50.191807",
     "exception": false,
     "start_time": "2023-11-04T12:15:50.144505",
     "status": "completed"
    },
    "tags": []
   },
   "outputs": [],
   "source": []
  },
  {
   "cell_type": "code",
   "execution_count": null,
   "id": "5a52a307",
   "metadata": {
    "execution": {
     "iopub.execute_input": "2023-11-04T12:15:50.958513Z",
     "iopub.status.busy": "2023-11-04T12:15:50.957816Z",
     "iopub.status.idle": "2023-11-04T12:15:50.966549Z",
     "shell.execute_reply": "2023-11-04T12:15:50.965481Z"
    },
    "papermill": {
     "duration": 0.049573,
     "end_time": "2023-11-04T12:15:50.969235",
     "exception": false,
     "start_time": "2023-11-04T12:15:50.919662",
     "status": "completed"
    },
    "tags": []
   },
   "outputs": [],
   "source": []
  },
  {
   "cell_type": "code",
   "execution_count": null,
   "id": "f9e048ab",
   "metadata": {
    "execution": {
     "iopub.execute_input": "2023-11-04T12:15:53.614734Z",
     "iopub.status.busy": "2023-11-04T12:15:53.614311Z",
     "iopub.status.idle": "2023-11-04T12:15:53.623782Z",
     "shell.execute_reply": "2023-11-04T12:15:53.623151Z"
    },
    "papermill": {
     "duration": 0.053128,
     "end_time": "2023-11-04T12:15:53.625420",
     "exception": false,
     "start_time": "2023-11-04T12:15:53.572292",
     "status": "completed"
    },
    "tags": []
   },
   "outputs": [],
   "source": []
  },
  {
   "cell_type": "markdown",
   "id": "d4305292",
   "metadata": {},
   "source": [
    "### Exercise 3: Perform the following Data exploration tasks. \t\t(7 marks)\n",
    "- a)\tWhat is the average age of customers in the dataset?\n",
    "- b)\tWhat is the most common item purchased?\n",
    "- c)\tWhat is the total purchase amount for each category?\n",
    "- d)\tWhat is the average review rating for male customers and female customers separately?\n",
    "- e)\tWhat is the most common payment method used by customers?\n",
    "- f)\tWhat is the median purchase amount (USD)?\n",
    "- g)\tHow many customers have opted for the Subscription?\n"
   ]
  },
  {
   "cell_type": "markdown",
   "id": "480e4ac6",
   "metadata": {
    "papermill": {
     "duration": 0.041839,
     "end_time": "2023-11-04T12:15:54.422346",
     "exception": false,
     "start_time": "2023-11-04T12:15:54.380507",
     "status": "completed"
    },
    "tags": []
   },
   "source": [
    "<div style=\"padding:10px;\n",
    "            color:#E55604;\n",
    "            margin:10px;\n",
    "            font-size:130%;\n",
    "            display:fill;\n",
    "            border-radius:5px;\n",
    "            border-style: solid;\n",
    "            border-color: #FF9B50;\n",
    "            background-color:#000000;\n",
    "            overflow:hidden;\n",
    "            font-weight:400\"><b>What is the average age of customers in the dataset ?</b>\n",
    "</div>"
   ]
  },
  {
   "cell_type": "code",
   "execution_count": 13,
   "id": "353a6e72",
   "metadata": {
    "papermill": {
     "duration": 0.05413,
     "end_time": "2023-11-04T12:15:54.519443",
     "exception": false,
     "start_time": "2023-11-04T12:15:54.465313",
     "status": "completed"
    },
    "tags": []
   },
   "outputs": [
    {
     "name": "stdout",
     "output_type": "stream",
     "text": [
      "The average age of customers is: 44.07\n"
     ]
    }
   ],
   "source": [
    "average_age = df['Age'].mean()\n",
    "\n",
    "print(f\"The average age of customers is: {average_age:.2f}\")\n"
   ]
  },
  {
   "cell_type": "markdown",
   "id": "9630f045",
   "metadata": {
    "papermill": {
     "duration": 0.043438,
     "end_time": "2023-11-04T12:15:54.607260",
     "exception": false,
     "start_time": "2023-11-04T12:15:54.563822",
     "status": "completed"
    },
    "tags": []
   },
   "source": [
    "<div style=\"padding:10px;\n",
    "            color:#E55604;\n",
    "            margin:10px;\n",
    "            font-size:130%;\n",
    "            display:fill;\n",
    "            border-radius:5px;\n",
    "            border-style: solid;\n",
    "            border-color: #FF9B50;\n",
    "            background-color:#000000;\n",
    "            overflow:hidden;\n",
    "            font-weight:400\"><b>What is the most common item purchased ?</b>\n",
    "</div>"
   ]
  },
  {
   "cell_type": "code",
   "execution_count": 14,
   "id": "fd7fc25b",
   "metadata": {
    "papermill": {
     "duration": 0.055392,
     "end_time": "2023-11-04T12:15:54.705880",
     "exception": false,
     "start_time": "2023-11-04T12:15:54.650488",
     "status": "completed"
    },
    "tags": []
   },
   "outputs": [
    {
     "name": "stdout",
     "output_type": "stream",
     "text": [
      "The most purchased item is: Blouse with 171 purchases.\n"
     ]
    }
   ],
   "source": [
    "\n",
    "    # Count occurrences of each item\n",
    "    item_counts = df['Item Purchased'].value_counts()\n",
    "\n",
    "    # Find the most purchased item\n",
    "    most_purchased_item = item_counts.idxmax()\n",
    "    most_purchased_count = item_counts.max()\n",
    "\n",
    "    print(f\"The most purchased item is: {most_purchased_item} with {most_purchased_count} purchases.\")\n",
    "\n"
   ]
  },
  {
   "cell_type": "markdown",
   "id": "4d272de8",
   "metadata": {
    "papermill": {
     "duration": 0.043033,
     "end_time": "2023-11-04T12:15:54.792416",
     "exception": false,
     "start_time": "2023-11-04T12:15:54.749383",
     "status": "completed"
    },
    "tags": []
   },
   "source": [
    "<div style=\"padding:10px;\n",
    "            color:#E55604;\n",
    "            margin:10px;\n",
    "            font-size:130%;\n",
    "            display:fill;\n",
    "            border-radius:5px;\n",
    "            border-style: solid;\n",
    "            border-color: #FF9B50;\n",
    "            background-color:#000000;\n",
    "            overflow:hidden;\n",
    "            font-weight:400\"><b>What is the total purchase amount for each category ?</b>\n",
    "</div>"
   ]
  },
  {
   "cell_type": "code",
   "execution_count": 15,
   "id": "b4151fc3",
   "metadata": {
    "papermill": {
     "duration": 0.057163,
     "end_time": "2023-11-04T12:15:54.893095",
     "exception": false,
     "start_time": "2023-11-04T12:15:54.835932",
     "status": "completed"
    },
    "tags": []
   },
   "outputs": [
    {
     "name": "stdout",
     "output_type": "stream",
     "text": [
      "   Customer ID  Age Gender Item Purchased  Category  Purchase Amount (USD)  \\\n",
      "0            1   55   Male         Blouse  Clothing                     53   \n",
      "1            2   19   Male        Sweater  Clothing                     64   \n",
      "2            3   50   Male          Jeans  Clothing                     73   \n",
      "3            4   21   Male        Sandals  Footwear                     90   \n",
      "4            5   45   Male         Blouse  Clothing                     49   \n",
      "\n",
      "        Location Size      Color  Season  Review Rating Subscription Status  \\\n",
      "0       Kentucky    L       Gray  Winter            3.1                 Yes   \n",
      "1          Maine    L     Maroon  Winter            3.1                 Yes   \n",
      "2  Massachusetts    S     Maroon  Spring            3.1                 Yes   \n",
      "3   Rhode Island    M     Maroon  Spring            3.5                 Yes   \n",
      "4         Oregon    M  Turquoise  Spring            2.7                 Yes   \n",
      "\n",
      "   Shipping Type Discount Applied Promo Code Used  Previous Purchases  \\\n",
      "0        Express              Yes             Yes                  14   \n",
      "1        Express              Yes             Yes                   2   \n",
      "2  Free Shipping              Yes             Yes                  23   \n",
      "3   Next Day Air              Yes             Yes                  49   \n",
      "4  Free Shipping              Yes             Yes                  31   \n",
      "\n",
      "  Payment Method Frequency of Purchases  \n",
      "0          Venmo            Fortnightly  \n",
      "1           Cash            Fortnightly  \n",
      "2    Credit Card                 Weekly  \n",
      "3         PayPal                 Weekly  \n",
      "4         PayPal               Annually  \n",
      "      Category  Purchase Amount (USD)\n",
      "0  Accessories                  74200\n",
      "1     Clothing                 104264\n",
      "2     Footwear                  36093\n",
      "3    Outerwear                  18524\n"
     ]
    }
   ],
   "source": [
    "print(df.head())\n",
    "\n",
    "# Aggregating the total purchase amount per category\n",
    "total_per_category = df.groupby('Category')['Purchase Amount (USD)'].sum().reset_index()\n",
    "\n",
    "# Displaying the results\n",
    "print(total_per_category)"
   ]
  },
  {
   "cell_type": "markdown",
   "id": "6dbf1fa6",
   "metadata": {
    "papermill": {
     "duration": 0.043673,
     "end_time": "2023-11-04T12:15:54.981540",
     "exception": false,
     "start_time": "2023-11-04T12:15:54.937867",
     "status": "completed"
    },
    "tags": []
   },
   "source": [
    "<div style=\"padding:10px;\n",
    "            color:#E55604;\n",
    "            margin:10px;\n",
    "            font-size:130%;\n",
    "            display:fill;\n",
    "            border-radius:5px;\n",
    "            border-style: solid;\n",
    "            border-color: #FF9B50;\n",
    "            background-color:#000000;\n",
    "            overflow:hidden;\n",
    "            font-weight:400\"><b>What is the average review rating for male customers and female customers separately ?</b>\n",
    "</div>"
   ]
  },
  {
   "cell_type": "code",
   "execution_count": 16,
   "id": "dd165b5d",
   "metadata": {
    "papermill": {
     "duration": 0.057116,
     "end_time": "2023-11-04T12:15:55.081762",
     "exception": false,
     "start_time": "2023-11-04T12:15:55.024646",
     "status": "completed"
    },
    "tags": []
   },
   "outputs": [
    {
     "name": "stdout",
     "output_type": "stream",
     "text": [
      "   Customer ID  Age Gender Item Purchased  Category  Purchase Amount (USD)  \\\n",
      "0            1   55   Male         Blouse  Clothing                     53   \n",
      "1            2   19   Male        Sweater  Clothing                     64   \n",
      "2            3   50   Male          Jeans  Clothing                     73   \n",
      "3            4   21   Male        Sandals  Footwear                     90   \n",
      "4            5   45   Male         Blouse  Clothing                     49   \n",
      "\n",
      "        Location Size      Color  Season  Review Rating Subscription Status  \\\n",
      "0       Kentucky    L       Gray  Winter            3.1                 Yes   \n",
      "1          Maine    L     Maroon  Winter            3.1                 Yes   \n",
      "2  Massachusetts    S     Maroon  Spring            3.1                 Yes   \n",
      "3   Rhode Island    M     Maroon  Spring            3.5                 Yes   \n",
      "4         Oregon    M  Turquoise  Spring            2.7                 Yes   \n",
      "\n",
      "   Shipping Type Discount Applied Promo Code Used  Previous Purchases  \\\n",
      "0        Express              Yes             Yes                  14   \n",
      "1        Express              Yes             Yes                   2   \n",
      "2  Free Shipping              Yes             Yes                  23   \n",
      "3   Next Day Air              Yes             Yes                  49   \n",
      "4  Free Shipping              Yes             Yes                  31   \n",
      "\n",
      "  Payment Method Frequency of Purchases  \n",
      "0          Venmo            Fortnightly  \n",
      "1           Cash            Fortnightly  \n",
      "2    Credit Card                 Weekly  \n",
      "3         PayPal                 Weekly  \n",
      "4         PayPal               Annually  \n",
      "   Gender  Review Rating\n",
      "0  Female       3.741426\n",
      "1    Male       3.753959\n"
     ]
    }
   ],
   "source": [
    "#displaying the first few rows of the data\n",
    "print(df.head())\n",
    "\n",
    "# Calculating the average review rating per gender\n",
    "average_ratings = df.groupby('Gender')['Review Rating'].mean().reset_index()\n",
    "\n",
    "# Displaying the results\n",
    "print(average_ratings)"
   ]
  },
  {
   "cell_type": "markdown",
   "id": "caee4705",
   "metadata": {
    "papermill": {
     "duration": 0.042029,
     "end_time": "2023-11-04T12:15:55.170931",
     "exception": false,
     "start_time": "2023-11-04T12:15:55.128902",
     "status": "completed"
    },
    "tags": []
   },
   "source": [
    "<div style=\"padding:10px;\n",
    "            color:#E55604;\n",
    "            margin:10px;\n",
    "            font-size:130%;\n",
    "            display:fill;\n",
    "            border-radius:5px;\n",
    "            border-style: solid;\n",
    "            border-color: #FF9B50;\n",
    "            background-color:#000000;\n",
    "            overflow:hidden;\n",
    "            font-weight:400\"><b>What is the most common payment method used by customers ?</b>\n",
    "</div>"
   ]
  },
  {
   "cell_type": "code",
   "execution_count": 17,
   "id": "0c28f723",
   "metadata": {
    "papermill": {
     "duration": 0.052864,
     "end_time": "2023-11-04T12:15:55.267716",
     "exception": false,
     "start_time": "2023-11-04T12:15:55.214852",
     "status": "completed"
    },
    "tags": []
   },
   "outputs": [
    {
     "name": "stdout",
     "output_type": "stream",
     "text": [
      "  Payment Method  count\n",
      "0         PayPal    677\n",
      "1    Credit Card    671\n",
      "2           Cash    670\n",
      "3     Debit Card    636\n",
      "4          Venmo    634\n",
      "5  Bank Transfer    612\n"
     ]
    }
   ],
   "source": [
    "\n",
    "payment_method_counts = df['Payment Method'].value_counts().reset_index()\n",
    "most_common_payment_method = payment_method_counts\n",
    "\n",
    "print(most_common_payment_method)"
   ]
  },
  {
   "cell_type": "markdown",
   "id": "afb8c9f8",
   "metadata": {
    "papermill": {
     "duration": 0.043404,
     "end_time": "2023-11-04T12:15:55.355818",
     "exception": false,
     "start_time": "2023-11-04T12:15:55.312414",
     "status": "completed"
    },
    "tags": []
   },
   "source": [
    "<div style=\"padding:10px;\n",
    "            color:#E55604;\n",
    "            margin:10px;\n",
    "            font-size:130%;\n",
    "            display:fill;\n",
    "            border-radius:5px;\n",
    "            border-style: solid;\n",
    "            border-color: #FF9B50;\n",
    "            background-color:#000000;\n",
    "            overflow:hidden;\n",
    "            font-weight:400\"><b>What is the median purchase amount (USD) ?</b>\n",
    "</div>"
   ]
  },
  {
   "cell_type": "code",
   "execution_count": 19,
   "id": "dbbf4d85",
   "metadata": {
    "papermill": {
     "duration": 0.052241,
     "end_time": "2023-11-04T12:15:55.451886",
     "exception": false,
     "start_time": "2023-11-04T12:15:55.399645",
     "status": "completed"
    },
    "tags": []
   },
   "outputs": [
    {
     "name": "stdout",
     "output_type": "stream",
     "text": [
      "   Customer ID  Age Gender Item Purchased  Category  Purchase Amount (USD)  \\\n",
      "0            1   55   Male         Blouse  Clothing                     53   \n",
      "1            2   19   Male        Sweater  Clothing                     64   \n",
      "2            3   50   Male          Jeans  Clothing                     73   \n",
      "3            4   21   Male        Sandals  Footwear                     90   \n",
      "4            5   45   Male         Blouse  Clothing                     49   \n",
      "\n",
      "        Location Size      Color  Season  Review Rating Subscription Status  \\\n",
      "0       Kentucky    L       Gray  Winter            3.1                 Yes   \n",
      "1          Maine    L     Maroon  Winter            3.1                 Yes   \n",
      "2  Massachusetts    S     Maroon  Spring            3.1                 Yes   \n",
      "3   Rhode Island    M     Maroon  Spring            3.5                 Yes   \n",
      "4         Oregon    M  Turquoise  Spring            2.7                 Yes   \n",
      "\n",
      "   Shipping Type Discount Applied Promo Code Used  Previous Purchases  \\\n",
      "0        Express              Yes             Yes                  14   \n",
      "1        Express              Yes             Yes                   2   \n",
      "2  Free Shipping              Yes             Yes                  23   \n",
      "3   Next Day Air              Yes             Yes                  49   \n",
      "4  Free Shipping              Yes             Yes                  31   \n",
      "\n",
      "  Payment Method Frequency of Purchases  \n",
      "0          Venmo            Fortnightly  \n",
      "1           Cash            Fortnightly  \n",
      "2    Credit Card                 Weekly  \n",
      "3         PayPal                 Weekly  \n",
      "4         PayPal               Annually  \n",
      "60.0\n"
     ]
    }
   ],
   "source": [
    "print(df.head())\n",
    "\n",
    "# Calculating the median purchase amount\n",
    "median_purchase_amount = df['Purchase Amount (USD)'].median()\n",
    "\n",
    "# Displaying the median purchase amount\n",
    "print(median_purchase_amount)"
   ]
  },
  {
   "cell_type": "markdown",
   "id": "b36103d7",
   "metadata": {
    "papermill": {
     "duration": 0.043396,
     "end_time": "2023-11-04T12:15:55.538396",
     "exception": false,
     "start_time": "2023-11-04T12:15:55.495000",
     "status": "completed"
    },
    "tags": []
   },
   "source": [
    "<div style=\"padding:10px;\n",
    "            color:#E55604;\n",
    "            margin:10px;\n",
    "            font-size:130%;\n",
    "            display:fill;\n",
    "            border-radius:5px;\n",
    "            border-style: solid;\n",
    "            border-color: #FF9B50;\n",
    "            background-color:#000000;\n",
    "            overflow:hidden;\n",
    "            font-weight:400\"><b>How many customers have opted for the Subscription ?</b></div>"
   ]
  },
  {
   "cell_type": "code",
   "execution_count": 20,
   "id": "4161b038",
   "metadata": {
    "papermill": {
     "duration": 0.056976,
     "end_time": "2023-11-04T12:15:55.638896",
     "exception": false,
     "start_time": "2023-11-04T12:15:55.581920",
     "status": "completed"
    },
    "tags": []
   },
   "outputs": [
    {
     "name": "stdout",
     "output_type": "stream",
     "text": [
      "   Customer ID  Age Gender Item Purchased  Category  Purchase Amount (USD)  \\\n",
      "0            1   55   Male         Blouse  Clothing                     53   \n",
      "1            2   19   Male        Sweater  Clothing                     64   \n",
      "2            3   50   Male          Jeans  Clothing                     73   \n",
      "3            4   21   Male        Sandals  Footwear                     90   \n",
      "4            5   45   Male         Blouse  Clothing                     49   \n",
      "\n",
      "        Location Size      Color  Season  Review Rating Subscription Status  \\\n",
      "0       Kentucky    L       Gray  Winter            3.1                 Yes   \n",
      "1          Maine    L     Maroon  Winter            3.1                 Yes   \n",
      "2  Massachusetts    S     Maroon  Spring            3.1                 Yes   \n",
      "3   Rhode Island    M     Maroon  Spring            3.5                 Yes   \n",
      "4         Oregon    M  Turquoise  Spring            2.7                 Yes   \n",
      "\n",
      "   Shipping Type Discount Applied Promo Code Used  Previous Purchases  \\\n",
      "0        Express              Yes             Yes                  14   \n",
      "1        Express              Yes             Yes                   2   \n",
      "2  Free Shipping              Yes             Yes                  23   \n",
      "3   Next Day Air              Yes             Yes                  49   \n",
      "4  Free Shipping              Yes             Yes                  31   \n",
      "\n",
      "  Payment Method Frequency of Purchases  \n",
      "0          Venmo            Fortnightly  \n",
      "1           Cash            Fortnightly  \n",
      "2    Credit Card                 Weekly  \n",
      "3         PayPal                 Weekly  \n",
      "4         PayPal               Annually  \n",
      "YesYesYesYesYesYesYesYesYesYesYesYesYesYesYesYesYesYesYesYesYesYesYesYesYesYesYesYesYesYesYesYesYesYesYesYesYesYesYesYesYesYesYesYesYesYesYesYesYesYesYesYesYesYesYesYesYesYesYesYesYesYesYesYesYesYesYesYesYesYesYesYesYesYesYesYesYesYesYesYesYesYesYesYesYesYesYesYesYesYesYesYesYesYesYesYesYesYesYesYesYesYesYesYesYesYesYesYesYesYesYesYesYesYesYesYesYesYesYesYesYesYesYesYesYesYesYesYesYesYesYesYesYesYesYesYesYesYesYesYesYesYesYesYesYesYesYesYesYesYesYesYesYesYesYesYesYesYesYesYesYesYesYesYesYesYesYesYesYesYesYesYesYesYesYesYesYesYesYesYesYesYesYesYesYesYesYesYesYesYesYesYesYesYesYesYesYesYesYesYesYesYesYesYesYesYesYesYesYesYesYesYesYesYesYesYesYesYesYesYesYesYesYesYesYesYesYesYesYesYesYesYesYesYesYesYesYesYesYesYesYesYesYesYesYesYesYesYesYesYesYesYesYesYesYesYesYesYesYesYesYesYesYesYesYesYesYesYesYesYesYesYesYesYesYesYesYesYesYesYesYesYesYesYesYesYesYesYesYesYesYesYesYesYesYesYesYesYesYesYesYesYesYesYesYesYesYesYesYesYesYesYesYesYesYesYesYesYesYesYesYesYesYesYesYesYesYesYesYesYesYesYesYesYesYesYesYesYesYesYesYesYesYesYesYesYesYesYesYesYesYesYesYesYesYesYesYesYesYesYesYesYesYesYesYesYesYesYesYesYesYesYesYesYesYesYesYesYesYesYesYesYesYesYesYesYesYesYesYesYesYesYesYesYesYesYesYesYesYesYesYesYesYesYesYesYesYesYesYesYesYesYesYesYesYesYesYesYesYesYesYesYesYesYesYesYesYesYesYesYesYesYesYesYesYesYesYesYesYesYesYesYesYesYesYesYesYesYesYesYesYesYesYesYesYesYesYesYesYesYesYesYesYesYesYesYesYesYesYesYesYesYesYesYesYesYesYesYesYesYesYesYesYesYesYesYesYesYesYesYesYesYesYesYesYesYesYesYesYesYesYesYesYesYesYesYesYesYesYesYesYesYesYesYesYesYesYesYesYesYesYesYesYesYesYesYesYesYesYesYesYesYesYesYesYesYesYesYesYesYesYesYesYesYesYesYesYesYesYesYesYesYesYesYesYesYesYesYesYesYesYesYesYesYesYesYesYesYesYesYesYesYesYesYesYesYesYesYesYesYesYesYesYesYesYesYesYesYesYesYesYesYesYesYesYesYesYesYesYesYesYesYesYesYesYesYesYesYesYesYesYesYesYesYesYesYesYesYesYesYesYesYesYesYesYesYesYesYesYesYesYesYesYesYesYesYesYesYesYesYesYesYesYesYesYesYesYesYesYesYesYesYesYesYesYesYesYesYesYesYesYesYesYesYesYesYesYesYesYesYesYesYesYesYesYesYesYesYesYesYesYesYesYesYesYesYesYesYesYesYesYesYesYesYesYesYesYesYesYesYesYesYesYesYesYesYesYesYesYesYesYesYesYesYesYesYesYesYesYesYesYesYesYesYesYesYesYesYesYesYesYesYesYesYesYesYesYesYesYesYesYesYesYesYesYesYesYesYesYesYesYesYesYesYesYesYesYesYesYesYesYesYesYesYesYesYesYesYesYesYesYesYesYesYesYesYesYesYesYesYesYesYesYesYesYesYesYesYesYesYesYesYesYesYesYesYesYesYesYesYesYesYesYesYesYesYesYesYesYesYesYesYesYesYesYesYesYesYesYesYesYesYesYesYesYesYesYesYesYesYesYesYesYesYesYesYesYesYesYesYesYesYesYesYesYesYesYesYesYesYesYesYesYesYesYesYesYesYesYesYesYesYesYesYesYesYesYesYesYesYesYesYesYesYesYesYesYesYesYesYesYesYesYesYesYesYesYesYesYesYesYesYesYesYesYesYesYesYesYesYesYesYesYesYesYesYesYesYesYesYesYesYesYesYesYesYesYesYesYesYesYesYesYesYesYesYesYesYesYesYesYesYesYesYesYesYesYesYesYesYesYesYesYesYesYesYesYesYesYesYesYesYesYesYesYesYesYesYesYesYesYesYesYesYesYesYesYesYesYesYesYesYesYesYesYesYesYesYesYesYesYesYesYesYesYesYesYesYesYesYesYesYesYesYesYesYesYesYesYesYesYesYesYesYesYesYesYesYesYesYesYesYesYesYesYesYesYesYesYesYesYesYesYesYesYesYesYesYesYesYesYesYesYesYesYesYesYesYesYesYesYesYesYesYesYesYesYesYesYesYesYesYesYesNoNoNoNoNoNoNoNoNoNoNoNoNoNoNoNoNoNoNoNoNoNoNoNoNoNoNoNoNoNoNoNoNoNoNoNoNoNoNoNoNoNoNoNoNoNoNoNoNoNoNoNoNoNoNoNoNoNoNoNoNoNoNoNoNoNoNoNoNoNoNoNoNoNoNoNoNoNoNoNoNoNoNoNoNoNoNoNoNoNoNoNoNoNoNoNoNoNoNoNoNoNoNoNoNoNoNoNoNoNoNoNoNoNoNoNoNoNoNoNoNoNoNoNoNoNoNoNoNoNoNoNoNoNoNoNoNoNoNoNoNoNoNoNoNoNoNoNoNoNoNoNoNoNoNoNoNoNoNoNoNoNoNoNoNoNoNoNoNoNoNoNoNoNoNoNoNoNoNoNoNoNoNoNoNoNoNoNoNoNoNoNoNoNoNoNoNoNoNoNoNoNoNoNoNoNoNoNoNoNoNoNoNoNoNoNoNoNoNoNoNoNoNoNoNoNoNoNoNoNoNoNoNoNoNoNoNoNoNoNoNoNoNoNoNoNoNoNoNoNoNoNoNoNoNoNoNoNoNoNoNoNoNoNoNoNoNoNoNoNoNoNoNoNoNoNoNoNoNoNoNoNoNoNoNoNoNoNoNoNoNoNoNoNoNoNoNoNoNoNoNoNoNoNoNoNoNoNoNoNoNoNoNoNoNoNoNoNoNoNoNoNoNoNoNoNoNoNoNoNoNoNoNoNoNoNoNoNoNoNoNoNoNoNoNoNoNoNoNoNoNoNoNoNoNoNoNoNoNoNoNoNoNoNoNoNoNoNoNoNoNoNoNoNoNoNoNoNoNoNoNoNoNoNoNoNoNoNoNoNoNoNoNoNoNoNoNoNoNoNoNoNoNoNoNoNoNoNoNoNoNoNoNoNoNoNoNoNoNoNoNoNoNoNoNoNoNoNoNoNoNoNoNoNoNoNoNoNoNoNoNoNoNoNoNoNoNoNoNoNoNoNoNoNoNoNoNoNoNoNoNoNoNoNoNoNoNoNoNoNoNoNoNoNoNoNoNoNoNoNoNoNoNoNoNoNoNoNoNoNoNoNoNoNoNoNoNoNoNoNoNoNoNoNoNoNoNoNoNoNoNoNoNoNoNoNoNoNoNoNoNoNoNoNoNoNoNoNoNoNoNoNoNoNoNoNoNoNoNoNoNoNoNoNoNoNoNoNoNoNoNoNoNoNoNoNoNoNoNoNoNoNoNoNoNoNoNoNoNoNoNoNoNoNoNoNoNoNoNoNoNoNoNoNoNoNoNoNoNoNoNoNoNoNoNoNoNoNoNoNoNoNoNoNoNoNoNoNoNoNoNoNoNoNoNoNoNoNoNoNoNoNoNoNoNoNoNoNoNoNoNoNoNoNoNoNoNoNoNoNoNoNoNoNoNoNoNoNoNoNoNoNoNoNoNoNoNoNoNoNoNoNoNoNoNoNoNoNoNoNoNoNoNoNoNoNoNoNoNoNoNoNoNoNoNoNoNoNoNoNoNoNoNoNoNoNoNoNoNoNoNoNoNoNoNoNoNoNoNoNoNoNoNoNoNoNoNoNoNoNoNoNoNoNoNoNoNoNoNoNoNoNoNoNoNoNoNoNoNoNoNoNoNoNoNoNoNoNoNoNoNoNoNoNoNoNoNoNoNoNoNoNoNoNoNoNoNoNoNoNoNoNoNoNoNoNoNoNoNoNoNoNoNoNoNoNoNoNoNoNoNoNoNoNoNoNoNoNoNoNoNoNoNoNoNoNoNoNoNoNoNoNoNoNoNoNoNoNoNoNoNoNoNoNoNoNoNoNoNoNoNoNoNoNoNoNoNoNoNoNoNoNoNoNoNoNoNoNoNoNoNoNoNoNoNoNoNoNoNoNoNoNoNoNoNoNoNoNoNoNoNoNoNoNoNoNoNoNoNoNoNoNoNoNoNoNoNoNoNoNoNoNoNoNoNoNoNoNoNoNoNoNoNoNoNoNoNoNoNoNoNoNoNoNoNoNoNoNoNoNoNoNoNoNoNoNoNoNoNoNoNoNoNoNoNoNoNoNoNoNoNoNoNoNoNoNoNoNoNoNoNoNoNoNoNoNoNoNoNoNoNoNoNoNoNoNoNoNoNoNoNoNoNoNoNoNoNoNoNoNoNoNoNoNoNoNoNoNoNoNoNoNoNoNoNoNoNoNoNoNoNoNoNoNoNoNoNoNoNoNoNoNoNoNoNoNoNoNoNoNoNoNoNoNoNoNoNoNoNoNoNoNoNoNoNoNoNoNoNoNoNoNoNoNoNoNoNoNoNoNoNoNoNoNoNoNoNoNoNoNoNoNoNoNoNoNoNoNoNoNoNoNoNoNoNoNoNoNoNoNoNoNoNoNoNoNoNoNoNoNoNoNoNoNoNoNoNoNoNoNoNoNoNoNoNoNoNoNoNoNoNoNoNoNoNoNoNoNoNoNoNoNoNoNoNoNoNoNoNoNoNoNoNoNoNoNoNoNoNoNoNoNoNoNoNoNoNoNoNoNoNoNoNoNoNoNoNoNoNoNoNoNoNoNoNoNoNoNoNoNoNoNoNoNoNoNoNoNoNoNoNoNoNoNoNoNoNoNoNoNoNoNoNoNoNoNoNoNoNoNoNoNoNoNoNoNoNoNoNoNoNoNoNoNoNoNoNoNoNoNoNoNoNoNoNoNoNoNoNoNoNoNoNoNoNoNoNoNoNoNoNoNoNoNoNoNoNoNoNoNoNoNoNoNoNoNoNoNoNoNoNoNoNoNoNoNoNoNoNoNoNoNoNoNoNoNoNoNoNoNoNoNoNoNoNoNoNoNoNoNoNoNoNoNoNoNoNoNoNoNoNoNoNoNoNoNoNoNoNoNoNoNoNoNoNoNoNoNoNoNoNoNoNoNoNoNoNoNoNoNoNoNoNoNoNoNoNoNoNoNoNoNoNoNoNoNoNoNoNoNoNoNoNoNoNoNoNoNoNoNoNoNoNoNoNoNoNoNoNoNoNoNoNoNoNoNoNoNoNoNoNoNoNoNoNoNoNoNoNoNoNoNoNoNoNoNoNoNoNoNoNoNoNoNoNoNoNoNoNoNoNoNoNoNoNoNoNoNoNoNoNoNoNoNoNoNoNoNoNoNoNoNoNoNoNoNoNoNoNoNoNoNoNoNoNoNoNoNoNoNoNoNoNoNoNoNoNoNoNoNoNoNoNoNoNoNoNoNoNoNoNoNoNoNoNoNoNoNoNoNoNoNoNoNoNoNoNoNoNoNoNoNoNoNoNoNoNoNoNoNoNoNoNoNoNoNoNoNoNoNoNoNoNoNoNoNoNoNoNoNoNoNoNoNoNoNoNoNoNoNoNoNoNoNoNoNoNoNoNoNoNoNoNoNoNoNoNoNoNoNoNoNoNoNoNoNoNoNoNoNoNoNoNoNoNoNoNoNoNoNoNoNoNoNoNoNoNoNoNoNoNoNoNoNoNoNoNoNoNoNoNoNoNoNoNoNoNoNoNoNoNoNoNoNoNoNoNoNoNoNoNoNoNoNoNoNoNoNoNoNoNoNoNoNoNoNoNoNoNoNoNoNoNoNoNoNoNoNoNoNoNoNoNoNoNoNoNoNoNoNoNoNoNoNoNoNoNoNoNoNoNoNoNoNoNoNoNoNoNoNoNoNoNoNoNoNoNoNoNoNoNoNoNoNoNoNoNoNoNoNoNoNoNoNoNoNoNoNoNoNoNoNoNoNoNoNoNoNoNoNoNoNoNoNoNoNoNoNoNoNoNoNoNoNoNoNoNoNoNoNoNoNoNoNoNoNoNoNoNoNoNoNoNoNoNoNoNoNoNoNoNoNoNoNoNoNoNoNoNoNoNoNoNoNoNoNoNoNoNoNoNoNoNoNoNoNoNoNoNoNoNoNoNoNoNoNoNoNoNoNoNoNoNoNoNoNoNoNoNoNoNoNoNoNoNoNoNoNoNoNoNoNoNoNoNoNoNoNoNoNoNoNoNoNoNoNoNoNoNoNoNoNoNoNoNoNoNoNoNoNoNoNoNoNoNoNoNoNoNoNoNoNoNoNoNoNoNoNoNoNoNoNoNoNoNoNoNoNoNoNoNoNoNoNoNoNoNoNoNoNoNoNoNoNoNoNoNoNoNoNoNoNoNoNoNoNoNoNoNoNoNoNoNoNoNoNoNoNoNoNoNoNoNoNoNoNoNoNoNoNoNoNoNoNoNoNoNoNoNoNoNoNoNoNoNoNoNoNoNoNoNoNoNoNoNoNoNoNoNoNoNoNoNoNoNoNoNoNoNoNoNoNoNoNoNoNoNoNoNoNoNoNoNoNoNoNoNoNoNoNoNoNoNoNoNoNoNoNoNoNoNoNoNoNoNoNoNoNoNoNoNoNoNoNoNoNoNoNoNoNoNoNoNoNoNoNoNoNoNoNoNoNoNoNoNoNoNoNoNoNoNoNoNoNoNoNoNoNoNoNoNoNoNoNoNoNoNoNoNoNoNoNoNoNoNoNoNoNoNoNoNoNoNoNoNoNoNoNoNoNoNoNoNoNoNoNoNoNoNoNoNoNoNoNoNoNoNoNoNoNoNoNoNoNoNoNoNoNoNoNoNoNoNoNoNoNoNoNoNoNoNoNoNoNoNoNoNoNoNoNoNoNoNoNoNoNoNoNoNoNoNoNoNoNoNoNoNoNoNoNoNoNoNoNoNoNoNoNoNoNoNoNoNoNoNoNoNoNoNoNoNoNoNoNoNoNoNoNoNoNoNoNoNoNoNoNoNoNoNoNoNoNoNoNoNoNoNoNoNoNoNoNoNoNoNoNoNoNoNoNoNoNoNoNoNoNoNoNoNoNoNoNoNoNoNoNoNoNoNoNoNoNoNoNoNoNoNoNoNoNoNoNoNoNoNoNoNoNoNoNoNoNoNoNoNoNoNoNoNoNoNoNoNoNoNoNoNoNoNoNoNoNoNoNoNoNoNoNoNoNoNoNoNoNoNoNoNoNoNoNoNoNoNoNoNoNoNoNoNoNoNoNoNoNoNoNoNoNoNoNoNoNoNoNoNoNoNoNoNoNoNoNoNoNoNoNoNoNoNoNoNoNoNoNoNoNoNoNoNoNoNoNoNoNoNoNoNoNoNoNoNoNoNoNoNoNoNoNoNoNoNoNoNoNoNoNoNoNoNoNoNoNoNoNoNoNoNoNoNoNoNoNoNoNoNoNoNoNoNoNoNoNoNoNoNoNoNoNoNoNoNoNoNoNoNoNoNoNoNoNoNoNoNoNoNoNoNoNoNoNoNoNoNoNoNoNoNoNoNoNoNoNoNoNoNoNoNoNoNoNoNoNoNoNoNoNoNoNoNoNoNoNoNoNoNoNoNoNoNoNoNoNoNoNoNoNoNoNoNoNoNoNoNoNoNoNoNoNoNoNoNoNoNoNoNoNoNoNoNoNoNoNoNoNoNoNoNoNoNoNoNoNoNoNoNoNoNoNoNoNoNoNoNoNoNoNoNoNoNoNoNoNoNoNoNoNoNoNoNoNoNoNoNoNoNoNoNoNoNoNoNoNoNoNoNoNoNoNoNoNoNoNoNoNoNoNoNoNoNoNoNoNoNoNoNoNoNoNoNoNoNoNoNoNoNoNoNoNoNoNoNoNoNoNoNoNoNoNoNoNoNoNoNoNoNoNoNoNoNoNoNoNoNoNoNoNoNoNoNoNoNoNoNoNoNoNoNoNoNoNoNoNoNoNoNoNoNoNoNoNoNoNoNoNoNoNoNoNoNoNoNoNoNoNoNoNoNoNoNoNoNoNoNoNoNoNoNoNoNoNoNoNoNoNoNoNoNoNoNoNoNoNoNoNoNoNoNoNoNoNoNoNoNoNoNoNoNoNoNoNoNoNoNoNoNoNoNoNoNoNoNoNoNoNoNoNoNoNoNoNoNoNoNoNoNoNoNoNoNoNoNoNoNoNoNoNoNoNoNoNoNoNoNoNoNoNoNoNoNoNoNoNoNoNoNoNoNoNoNoNoNoNoNoNoNoNoNoNoNoNoNoNoNoNoNoNoNoNoNoNoNoNoNoNoNoNoNoNoNoNoNoNoNoNoNoNoNoNoNoNoNoNoNoNoNoNoNoNoNoNoNoNoNoNoNoNoNoNoNoNoNoNoNoNoNoNoNoNoNoNoNoNoNoNoNoNoNoNoNoNoNoNoNoNoNoNoNoNoNoNoNoNoNoNoNoNoNoNoNoNoNoNoNoNoNoNoNo\n"
     ]
    }
   ],
   "source": [
    "print(df.head())\n",
    "\n",
    "# Counting the number of customers who have opted for the subscription\n",
    "# Assuming the Subscription column contains boolean values (True/False) or 1/0\n",
    "num_subscriptions = df['Subscription Status'].sum()\n",
    "\n",
    "# Displaying the number of customers who have opted for the subscription\n",
    "print(num_subscriptions)"
   ]
  },
  {
   "cell_type": "markdown",
   "id": "78ebe633",
   "metadata": {},
   "source": [
    "### Exercise 4: (26 marks)\n",
    "- a)\tHow many customers have made more than 30 previous purchases?\n",
    "- b)\tHow many customers used a promo code for their purchase?\n",
    "- c)\tWhat is the average purchase amount for customers who used a discount?\n",
    "- d)\tWhat is the most common category of items purchased by female customers with a review rating below 3?\n",
    "- e)\tWhat is the average age of customers who made purchases with a review rating above 4 and used a promo code?\n",
    "- f)\tWhat is the total purchase amount for customers in each location?\n",
    "- g)\tWhat is the average purchase amount for customers who have a subscription and used Venmo as the payment method?\n",
    "- h)\tWhat is the frequency distribution of the 'Frequency of Purchases' column?\n",
    "- i)\tWhat is the average purchase amount for each color of items?\n"
   ]
  },
  {
   "cell_type": "markdown",
   "id": "33946761",
   "metadata": {
    "papermill": {
     "duration": 0.043171,
     "end_time": "2023-11-04T12:15:57.036751",
     "exception": false,
     "start_time": "2023-11-04T12:15:56.993580",
     "status": "completed"
    },
    "tags": []
   },
   "source": [
    "<div style=\"padding:10px;\n",
    "            color:#E55604;\n",
    "            margin:10px;\n",
    "            font-size:130%;\n",
    "            display:fill;\n",
    "            border-radius:5px;\n",
    "            border-style: solid;\n",
    "            border-color: #FF9B50;\n",
    "            background-color:#000000;\n",
    "            overflow:hidden;\n",
    "            font-weight:400\"><b>How many customers have made more than 30 previous purchases ?</b>\n",
    "</div>"
   ]
  },
  {
   "cell_type": "code",
   "execution_count": 21,
   "id": "80312468",
   "metadata": {
    "papermill": {
     "duration": 0.058981,
     "end_time": "2023-11-04T12:15:57.141459",
     "exception": false,
     "start_time": "2023-11-04T12:15:57.082478",
     "status": "completed"
    },
    "tags": []
   },
   "outputs": [
    {
     "name": "stdout",
     "output_type": "stream",
     "text": [
      "   Customer ID  Age Gender Item Purchased  Category  Purchase Amount (USD)  \\\n",
      "0            1   55   Male         Blouse  Clothing                     53   \n",
      "1            2   19   Male        Sweater  Clothing                     64   \n",
      "2            3   50   Male          Jeans  Clothing                     73   \n",
      "3            4   21   Male        Sandals  Footwear                     90   \n",
      "4            5   45   Male         Blouse  Clothing                     49   \n",
      "\n",
      "        Location Size      Color  Season  Review Rating Subscription Status  \\\n",
      "0       Kentucky    L       Gray  Winter            3.1                 Yes   \n",
      "1          Maine    L     Maroon  Winter            3.1                 Yes   \n",
      "2  Massachusetts    S     Maroon  Spring            3.1                 Yes   \n",
      "3   Rhode Island    M     Maroon  Spring            3.5                 Yes   \n",
      "4         Oregon    M  Turquoise  Spring            2.7                 Yes   \n",
      "\n",
      "   Shipping Type Discount Applied Promo Code Used  Previous Purchases  \\\n",
      "0        Express              Yes             Yes                  14   \n",
      "1        Express              Yes             Yes                   2   \n",
      "2  Free Shipping              Yes             Yes                  23   \n",
      "3   Next Day Air              Yes             Yes                  49   \n",
      "4  Free Shipping              Yes             Yes                  31   \n",
      "\n",
      "  Payment Method Frequency of Purchases  \n",
      "0          Venmo            Fortnightly  \n",
      "1           Cash            Fortnightly  \n",
      "2    Credit Card                 Weekly  \n",
      "3         PayPal                 Weekly  \n",
      "4         PayPal               Annually  \n",
      "1549\n"
     ]
    }
   ],
   "source": [
    "# Displaying the first few rows of the data\n",
    "print(df.head())\n",
    "\n",
    "# Filtering the customers who have made more than 30 previous purchases\n",
    "customers_with_more_than_30_purchases = df[df['Previous Purchases'] > 30]\n",
    "\n",
    "# Counting the number of such customers\n",
    "num_customers_with_more_than_30_purchases = len(customers_with_more_than_30_purchases)\n",
    "\n",
    "# Displaying the number of customers who have made more than 30 previous purchases\n",
    "print(num_customers_with_more_than_30_purchases)"
   ]
  },
  {
   "cell_type": "markdown",
   "id": "835187dc",
   "metadata": {
    "papermill": {
     "duration": 0.04519,
     "end_time": "2023-11-04T12:15:56.477817",
     "exception": false,
     "start_time": "2023-11-04T12:15:56.432627",
     "status": "completed"
    },
    "tags": []
   },
   "source": [
    "<div style=\"padding:10px;\n",
    "            color:#E55604;\n",
    "            margin:10px;\n",
    "            font-size:130%;\n",
    "            display:fill;\n",
    "            border-radius:5px;\n",
    "            border-style: solid;\n",
    "            border-color: #FF9B50;\n",
    "            background-color:#000000;\n",
    "            overflow:hidden;\n",
    "            font-weight:400\"><b>How many customers used a promo code for their purchase ?</b></div>"
   ]
  },
  {
   "cell_type": "code",
   "execution_count": 22,
   "id": "59739075",
   "metadata": {
    "papermill": {
     "duration": 0.054696,
     "end_time": "2023-11-04T12:15:56.577684",
     "exception": false,
     "start_time": "2023-11-04T12:15:56.522988",
     "status": "completed"
    },
    "tags": []
   },
   "outputs": [
    {
     "name": "stdout",
     "output_type": "stream",
     "text": [
      "   Customer ID  Age Gender Item Purchased  Category  Purchase Amount (USD)  \\\n",
      "0            1   55   Male         Blouse  Clothing                     53   \n",
      "1            2   19   Male        Sweater  Clothing                     64   \n",
      "2            3   50   Male          Jeans  Clothing                     73   \n",
      "3            4   21   Male        Sandals  Footwear                     90   \n",
      "4            5   45   Male         Blouse  Clothing                     49   \n",
      "\n",
      "        Location Size      Color  Season  Review Rating Subscription Status  \\\n",
      "0       Kentucky    L       Gray  Winter            3.1                 Yes   \n",
      "1          Maine    L     Maroon  Winter            3.1                 Yes   \n",
      "2  Massachusetts    S     Maroon  Spring            3.1                 Yes   \n",
      "3   Rhode Island    M     Maroon  Spring            3.5                 Yes   \n",
      "4         Oregon    M  Turquoise  Spring            2.7                 Yes   \n",
      "\n",
      "   Shipping Type Discount Applied Promo Code Used  Previous Purchases  \\\n",
      "0        Express              Yes             Yes                  14   \n",
      "1        Express              Yes             Yes                   2   \n",
      "2  Free Shipping              Yes             Yes                  23   \n",
      "3   Next Day Air              Yes             Yes                  49   \n",
      "4  Free Shipping              Yes             Yes                  31   \n",
      "\n",
      "  Payment Method Frequency of Purchases  \n",
      "0          Venmo            Fortnightly  \n",
      "1           Cash            Fortnightly  \n",
      "2    Credit Card                 Weekly  \n",
      "3         PayPal                 Weekly  \n",
      "4         PayPal               Annually  \n",
      "YesYesYesYesYesYesYesYesYesYesYesYesYesYesYesYesYesYesYesYesYesYesYesYesYesYesYesYesYesYesYesYesYesYesYesYesYesYesYesYesYesYesYesYesYesYesYesYesYesYesYesYesYesYesYesYesYesYesYesYesYesYesYesYesYesYesYesYesYesYesYesYesYesYesYesYesYesYesYesYesYesYesYesYesYesYesYesYesYesYesYesYesYesYesYesYesYesYesYesYesYesYesYesYesYesYesYesYesYesYesYesYesYesYesYesYesYesYesYesYesYesYesYesYesYesYesYesYesYesYesYesYesYesYesYesYesYesYesYesYesYesYesYesYesYesYesYesYesYesYesYesYesYesYesYesYesYesYesYesYesYesYesYesYesYesYesYesYesYesYesYesYesYesYesYesYesYesYesYesYesYesYesYesYesYesYesYesYesYesYesYesYesYesYesYesYesYesYesYesYesYesYesYesYesYesYesYesYesYesYesYesYesYesYesYesYesYesYesYesYesYesYesYesYesYesYesYesYesYesYesYesYesYesYesYesYesYesYesYesYesYesYesYesYesYesYesYesYesYesYesYesYesYesYesYesYesYesYesYesYesYesYesYesYesYesYesYesYesYesYesYesYesYesYesYesYesYesYesYesYesYesYesYesYesYesYesYesYesYesYesYesYesYesYesYesYesYesYesYesYesYesYesYesYesYesYesYesYesYesYesYesYesYesYesYesYesYesYesYesYesYesYesYesYesYesYesYesYesYesYesYesYesYesYesYesYesYesYesYesYesYesYesYesYesYesYesYesYesYesYesYesYesYesYesYesYesYesYesYesYesYesYesYesYesYesYesYesYesYesYesYesYesYesYesYesYesYesYesYesYesYesYesYesYesYesYesYesYesYesYesYesYesYesYesYesYesYesYesYesYesYesYesYesYesYesYesYesYesYesYesYesYesYesYesYesYesYesYesYesYesYesYesYesYesYesYesYesYesYesYesYesYesYesYesYesYesYesYesYesYesYesYesYesYesYesYesYesYesYesYesYesYesYesYesYesYesYesYesYesYesYesYesYesYesYesYesYesYesYesYesYesYesYesYesYesYesYesYesYesYesYesYesYesYesYesYesYesYesYesYesYesYesYesYesYesYesYesYesYesYesYesYesYesYesYesYesYesYesYesYesYesYesYesYesYesYesYesYesYesYesYesYesYesYesYesYesYesYesYesYesYesYesYesYesYesYesYesYesYesYesYesYesYesYesYesYesYesYesYesYesYesYesYesYesYesYesYesYesYesYesYesYesYesYesYesYesYesYesYesYesYesYesYesYesYesYesYesYesYesYesYesYesYesYesYesYesYesYesYesYesYesYesYesYesYesYesYesYesYesYesYesYesYesYesYesYesYesYesYesYesYesYesYesYesYesYesYesYesYesYesYesYesYesYesYesYesYesYesYesYesYesYesYesYesYesYesYesYesYesYesYesYesYesYesYesYesYesYesYesYesYesYesYesYesYesYesYesYesYesYesYesYesYesYesYesYesYesYesYesYesYesYesYesYesYesYesYesYesYesYesYesYesYesYesYesYesYesYesYesYesYesYesYesYesYesYesYesYesYesYesYesYesYesYesYesYesYesYesYesYesYesYesYesYesYesYesYesYesYesYesYesYesYesYesYesYesYesYesYesYesYesYesYesYesYesYesYesYesYesYesYesYesYesYesYesYesYesYesYesYesYesYesYesYesYesYesYesYesYesYesYesYesYesYesYesYesYesYesYesYesYesYesYesYesYesYesYesYesYesYesYesYesYesYesYesYesYesYesYesYesYesYesYesYesYesYesYesYesYesYesYesYesYesYesYesYesYesYesYesYesYesYesYesYesYesYesYesYesYesYesYesYesYesYesYesYesYesYesYesYesYesYesYesYesYesYesYesYesYesYesYesYesYesYesYesYesYesYesYesYesYesYesYesYesYesYesYesYesYesYesYesYesYesYesYesYesYesYesYesYesYesYesYesYesYesYesYesYesYesYesYesYesYesYesYesYesYesYesYesYesYesYesYesYesYesYesYesYesYesYesYesYesYesYesYesYesYesYesYesYesYesYesYesYesYesYesYesYesYesYesYesYesYesYesYesYesYesYesYesYesYesYesYesYesYesYesYesYesYesYesYesYesYesYesYesYesYesYesYesYesYesYesYesYesYesYesYesYesYesYesYesYesYesYesYesYesYesYesYesYesYesYesYesYesYesYesYesYesYesYesYesYesYesYesYesYesYesYesYesYesYesYesYesYesYesYesYesYesYesYesYesYesYesYesYesYesYesYesYesYesYesYesYesYesYesYesYesYesYesYesYesYesYesYesYesYesYesYesYesYesYesYesYesYesYesYesYesYesYesYesYesYesYesYesYesYesYesYesYesYesYesYesYesYesYesYesYesYesYesYesYesYesYesYesYesYesYesYesYesYesYesYesYesYesYesYesYesYesYesYesYesYesYesYesYesYesYesYesYesYesYesYesYesYesYesYesYesYesYesYesYesYesYesYesYesYesYesYesYesYesYesYesYesYesYesYesYesYesYesYesYesYesYesYesYesYesYesYesYesYesYesYesYesYesYesYesYesYesYesYesYesYesYesYesYesYesYesYesYesYesYesYesYesYesYesYesYesYesYesYesYesYesYesYesYesYesYesYesYesYesYesYesYesYesYesYesYesYesYesYesYesYesYesYesYesYesYesYesYesYesYesYesYesYesYesYesYesYesYesYesYesYesYesYesYesYesYesYesYesYesYesYesYesYesYesYesYesYesYesYesYesYesYesYesYesYesYesYesYesYesYesYesYesYesYesYesYesYesYesYesYesYesYesYesYesYesYesYesYesYesYesYesYesYesYesYesYesYesYesYesYesYesYesYesYesYesYesYesYesYesYesYesYesYesYesYesYesYesYesYesYesYesYesYesYesYesYesYesYesYesYesYesYesYesYesYesYesYesYesYesYesYesYesYesYesYesYesYesYesYesYesYesYesYesYesYesYesYesYesYesYesYesYesYesYesYesYesYesYesYesYesYesYesYesYesYesYesYesYesYesYesYesYesYesYesYesYesYesYesYesYesYesYesYesYesYesYesYesYesYesYesYesYesYesYesYesYesYesYesYesYesYesYesYesYesYesYesYesYesYesYesYesYesYesYesYesYesYesYesYesYesYesYesYesYesYesYesYesYesYesYesYesYesYesYesYesYesYesYesYesYesYesYesYesYesYesYesYesYesYesYesYesYesYesYesYesYesYesYesYesYesYesYesYesYesYesYesYesYesYesYesYesYesYesYesYesYesYesYesYesYesYesYesYesYesYesYesYesYesYesYesYesYesYesYesYesYesYesYesYesYesYesYesYesYesYesYesYesYesYesYesYesYesYesYesYesYesYesYesYesYesYesYesYesYesYesYesYesYesYesYesYesYesYesYesYesYesYesYesYesYesYesYesYesYesYesYesYesYesYesYesYesYesYesYesYesYesYesYesYesYesYesYesYesYesYesYesYesYesYesYesYesYesYesYesYesYesYesYesYesYesYesYesYesYesYesYesYesYesYesYesYesYesYesYesYesYesYesYesYesYesYesYesYesYesYesYesYesYesYesYesYesYesYesYesYesYesYesYesYesYesYesYesYesYesYesYesYesYesYesYesYesYesYesYesYesYesYesYesYesYesYesYesYesYesYesYesYesYesYesYesYesYesYesYesYesYesYesYesYesYesYesYesYesYesYesYesYesYesYesYesYesYesYesYesYesYesYesYesYesYesYesYesYesYesYesYesYesYesYesYesYesYesYesYesYesYesYesYesYesYesYesYesYesYesYesYesNoNoNoNoNoNoNoNoNoNoNoNoNoNoNoNoNoNoNoNoNoNoNoNoNoNoNoNoNoNoNoNoNoNoNoNoNoNoNoNoNoNoNoNoNoNoNoNoNoNoNoNoNoNoNoNoNoNoNoNoNoNoNoNoNoNoNoNoNoNoNoNoNoNoNoNoNoNoNoNoNoNoNoNoNoNoNoNoNoNoNoNoNoNoNoNoNoNoNoNoNoNoNoNoNoNoNoNoNoNoNoNoNoNoNoNoNoNoNoNoNoNoNoNoNoNoNoNoNoNoNoNoNoNoNoNoNoNoNoNoNoNoNoNoNoNoNoNoNoNoNoNoNoNoNoNoNoNoNoNoNoNoNoNoNoNoNoNoNoNoNoNoNoNoNoNoNoNoNoNoNoNoNoNoNoNoNoNoNoNoNoNoNoNoNoNoNoNoNoNoNoNoNoNoNoNoNoNoNoNoNoNoNoNoNoNoNoNoNoNoNoNoNoNoNoNoNoNoNoNoNoNoNoNoNoNoNoNoNoNoNoNoNoNoNoNoNoNoNoNoNoNoNoNoNoNoNoNoNoNoNoNoNoNoNoNoNoNoNoNoNoNoNoNoNoNoNoNoNoNoNoNoNoNoNoNoNoNoNoNoNoNoNoNoNoNoNoNoNoNoNoNoNoNoNoNoNoNoNoNoNoNoNoNoNoNoNoNoNoNoNoNoNoNoNoNoNoNoNoNoNoNoNoNoNoNoNoNoNoNoNoNoNoNoNoNoNoNoNoNoNoNoNoNoNoNoNoNoNoNoNoNoNoNoNoNoNoNoNoNoNoNoNoNoNoNoNoNoNoNoNoNoNoNoNoNoNoNoNoNoNoNoNoNoNoNoNoNoNoNoNoNoNoNoNoNoNoNoNoNoNoNoNoNoNoNoNoNoNoNoNoNoNoNoNoNoNoNoNoNoNoNoNoNoNoNoNoNoNoNoNoNoNoNoNoNoNoNoNoNoNoNoNoNoNoNoNoNoNoNoNoNoNoNoNoNoNoNoNoNoNoNoNoNoNoNoNoNoNoNoNoNoNoNoNoNoNoNoNoNoNoNoNoNoNoNoNoNoNoNoNoNoNoNoNoNoNoNoNoNoNoNoNoNoNoNoNoNoNoNoNoNoNoNoNoNoNoNoNoNoNoNoNoNoNoNoNoNoNoNoNoNoNoNoNoNoNoNoNoNoNoNoNoNoNoNoNoNoNoNoNoNoNoNoNoNoNoNoNoNoNoNoNoNoNoNoNoNoNoNoNoNoNoNoNoNoNoNoNoNoNoNoNoNoNoNoNoNoNoNoNoNoNoNoNoNoNoNoNoNoNoNoNoNoNoNoNoNoNoNoNoNoNoNoNoNoNoNoNoNoNoNoNoNoNoNoNoNoNoNoNoNoNoNoNoNoNoNoNoNoNoNoNoNoNoNoNoNoNoNoNoNoNoNoNoNoNoNoNoNoNoNoNoNoNoNoNoNoNoNoNoNoNoNoNoNoNoNoNoNoNoNoNoNoNoNoNoNoNoNoNoNoNoNoNoNoNoNoNoNoNoNoNoNoNoNoNoNoNoNoNoNoNoNoNoNoNoNoNoNoNoNoNoNoNoNoNoNoNoNoNoNoNoNoNoNoNoNoNoNoNoNoNoNoNoNoNoNoNoNoNoNoNoNoNoNoNoNoNoNoNoNoNoNoNoNoNoNoNoNoNoNoNoNoNoNoNoNoNoNoNoNoNoNoNoNoNoNoNoNoNoNoNoNoNoNoNoNoNoNoNoNoNoNoNoNoNoNoNoNoNoNoNoNoNoNoNoNoNoNoNoNoNoNoNoNoNoNoNoNoNoNoNoNoNoNoNoNoNoNoNoNoNoNoNoNoNoNoNoNoNoNoNoNoNoNoNoNoNoNoNoNoNoNoNoNoNoNoNoNoNoNoNoNoNoNoNoNoNoNoNoNoNoNoNoNoNoNoNoNoNoNoNoNoNoNoNoNoNoNoNoNoNoNoNoNoNoNoNoNoNoNoNoNoNoNoNoNoNoNoNoNoNoNoNoNoNoNoNoNoNoNoNoNoNoNoNoNoNoNoNoNoNoNoNoNoNoNoNoNoNoNoNoNoNoNoNoNoNoNoNoNoNoNoNoNoNoNoNoNoNoNoNoNoNoNoNoNoNoNoNoNoNoNoNoNoNoNoNoNoNoNoNoNoNoNoNoNoNoNoNoNoNoNoNoNoNoNoNoNoNoNoNoNoNoNoNoNoNoNoNoNoNoNoNoNoNoNoNoNoNoNoNoNoNoNoNoNoNoNoNoNoNoNoNoNoNoNoNoNoNoNoNoNoNoNoNoNoNoNoNoNoNoNoNoNoNoNoNoNoNoNoNoNoNoNoNoNoNoNoNoNoNoNoNoNoNoNoNoNoNoNoNoNoNoNoNoNoNoNoNoNoNoNoNoNoNoNoNoNoNoNoNoNoNoNoNoNoNoNoNoNoNoNoNoNoNoNoNoNoNoNoNoNoNoNoNoNoNoNoNoNoNoNoNoNoNoNoNoNoNoNoNoNoNoNoNoNoNoNoNoNoNoNoNoNoNoNoNoNoNoNoNoNoNoNoNoNoNoNoNoNoNoNoNoNoNoNoNoNoNoNoNoNoNoNoNoNoNoNoNoNoNoNoNoNoNoNoNoNoNoNoNoNoNoNoNoNoNoNoNoNoNoNoNoNoNoNoNoNoNoNoNoNoNoNoNoNoNoNoNoNoNoNoNoNoNoNoNoNoNoNoNoNoNoNoNoNoNoNoNoNoNoNoNoNoNoNoNoNoNoNoNoNoNoNoNoNoNoNoNoNoNoNoNoNoNoNoNoNoNoNoNoNoNoNoNoNoNoNoNoNoNoNoNoNoNoNoNoNoNoNoNoNoNoNoNoNoNoNoNoNoNoNoNoNoNoNoNoNoNoNoNoNoNoNoNoNoNoNoNoNoNoNoNoNoNoNoNoNoNoNoNoNoNoNoNoNoNoNoNoNoNoNoNoNoNoNoNoNoNoNoNoNoNoNoNoNoNoNoNoNoNoNoNoNoNoNoNoNoNoNoNoNoNoNoNoNoNoNoNoNoNoNoNoNoNoNoNoNoNoNoNoNoNoNoNoNoNoNoNoNoNoNoNoNoNoNoNoNoNoNoNoNoNoNoNoNoNoNoNoNoNoNoNoNoNoNoNoNoNoNoNoNoNoNoNoNoNoNoNoNoNoNoNoNoNoNoNoNoNoNoNoNoNoNoNoNoNoNoNoNoNoNoNoNoNoNoNoNoNoNoNoNoNoNoNoNoNoNoNoNoNoNoNoNoNoNoNoNoNoNoNoNoNoNoNoNoNoNoNoNoNoNoNoNoNoNoNoNoNoNoNoNoNoNoNoNoNoNoNoNoNoNoNoNoNoNoNoNoNoNoNoNoNoNoNoNoNoNoNoNoNoNoNoNoNoNoNoNoNoNoNoNoNoNoNoNoNoNoNoNoNoNoNoNoNoNoNoNoNoNoNoNoNoNoNoNoNoNoNoNoNoNoNoNoNoNoNoNoNoNoNoNoNoNoNoNoNoNoNoNoNoNoNoNoNoNoNoNoNoNoNoNoNoNoNoNoNoNoNoNoNoNoNoNoNoNoNoNoNoNoNoNoNoNoNoNoNoNoNoNoNoNoNoNoNoNoNoNoNoNoNoNoNoNoNoNoNoNoNoNoNoNoNoNoNoNoNoNoNoNoNoNoNoNoNoNoNoNoNoNoNoNoNoNoNoNoNoNoNoNoNoNoNoNoNoNoNoNoNoNoNoNoNoNoNoNoNoNoNoNoNoNoNoNoNoNoNoNoNoNoNoNoNoNoNoNoNoNoNoNoNoNoNoNoNoNoNoNoNoNoNoNoNoNoNoNoNoNoNoNoNoNoNoNoNoNoNoNoNoNoNoNoNoNoNoNoNoNoNoNoNoNoNoNoNoNoNoNoNoNoNoNoNoNoNoNoNoNoNoNoNoNoNoNoNoNoNoNoNoNoNoNoNoNoNoNoNoNoNoNoNoNoNoNoNoNoNoNoNoNoNoNoNoNoNoNoNoNoNoNoNoNoNoNoNoNoNoNoNoNoNoNoNoNoNoNoNoNoNoNoNoNoNoNoNoNoNoNoNoNoNoNoNoNoNoNoNoNoNoNoNoNoNoNoNoNoNoNoNoNoNoNoNoNoNoNoNoNoNoNoNoNoNoNoNoNoNoNoNoNoNoNoNoNoNoNoNoNoNoNoNoNoNoNoNoNoNoNoNoNoNoNoNoNoNoNoNoNoNoNoNoNoNoNoNoNoNoNoNoNoNoNoNoNoNoNoNoNoNoNoNoNoNoNoNoNoNoNoNoNoNoNoNoNoNoNoNoNoNoNoNoNoNoNoNoNoNoNoNoNoNoNoNoNoNoNoNoNoNoNoNoNoNoNoNoNoNoNoNoNoNoNoNoNoNoNoNoNoNoNoNoNoNoNoNoNoNoNoNoNoNoNoNoNoNoNoNoNoNoNoNoNoNoNoNoNoNoNoNoNoNoNoNoNoNoNoNoNoNoNoNoNoNoNoNoNoNoNoNoNoNoNoNoNoNoNoNoNoNoNoNoNoNoNoNoNoNoNoNoNoNoNoNoNoNoNoNoNoNoNoNoNoNoNoNoNoNoNoNoNoNoNoNoNoNoNoNoNoNoNoNoNoNoNoNoNoNoNoNoNoNoNoNoNoNoNoNoNoNoNoNoNoNoNoNoNoNoNoNoNoNoNoNoNoNoNoNoNoNoNoNoNoNoNoNoNoNoNoNoNoNoNoNoNoNoNoNoNoNoNoNoNoNoNoNoNoNoNoNoNoNoNoNoNoNoNoNoNoNoNoNo\n"
     ]
    }
   ],
   "source": [
    "\n",
    "print(df.head())\n",
    "# Counting the number of customers who used a promo code\n",
    "# Assuming the PromoCodeUsed column contains boolean values (True/False) or 1/0\n",
    "num_promo_code_users = df['Promo Code Used'].sum()\n",
    "\n",
    "# Displaying the number of customers who used a promo code\n",
    "print(num_promo_code_users)"
   ]
  },
  {
   "cell_type": "markdown",
   "id": "48890964",
   "metadata": {
    "papermill": {
     "duration": 0.043226,
     "end_time": "2023-11-04T12:15:57.787754",
     "exception": false,
     "start_time": "2023-11-04T12:15:57.744528",
     "status": "completed"
    },
    "tags": []
   },
   "source": [
    "<div style=\"padding:10px;\n",
    "            color:#E55604;\n",
    "            margin:10px;\n",
    "            font-size:130%;\n",
    "            display:fill;\n",
    "            border-radius:5px;\n",
    "            border-style: solid;\n",
    "            border-color: #FF9B50;\n",
    "            background-color:#000000;\n",
    "            overflow:hidden;\n",
    "            font-weight:400\"><b>What is the average purchase amount for customers who used a discount ?</b></div>"
   ]
  },
  {
   "cell_type": "code",
   "execution_count": 23,
   "id": "0515fb2b",
   "metadata": {
    "papermill": {
     "duration": 0.054835,
     "end_time": "2023-11-04T12:15:57.886657",
     "exception": false,
     "start_time": "2023-11-04T12:15:57.831822",
     "status": "completed"
    },
    "tags": []
   },
   "outputs": [
    {
     "ename": "NameError",
     "evalue": "name 'discount_df' is not defined",
     "output_type": "error",
     "traceback": [
      "\u001b[1;31m---------------------------------------------------------------------------\u001b[0m",
      "\u001b[1;31mNameError\u001b[0m                                 Traceback (most recent call last)",
      "Cell \u001b[1;32mIn[23], line 2\u001b[0m\n\u001b[0;32m      1\u001b[0m \u001b[38;5;66;03m# Filter the DataFrame for customers who used a discount\u001b[39;00m\n\u001b[1;32m----> 2\u001b[0m discount_df \u001b[38;5;241m=\u001b[39m discount_df\u001b[38;5;241m.\u001b[39mdropna(subset\u001b[38;5;241m=\u001b[39m[\u001b[38;5;124m'\u001b[39m\u001b[38;5;124mPurchase Amount (USD)\u001b[39m\u001b[38;5;124m'\u001b[39m])\n\u001b[0;32m      3\u001b[0m discount_df \u001b[38;5;241m=\u001b[39m df[df[\u001b[38;5;124m'\u001b[39m\u001b[38;5;124mDiscount Applied\u001b[39m\u001b[38;5;124m'\u001b[39m] \u001b[38;5;241m==\u001b[39m \u001b[38;5;28;01mTrue\u001b[39;00m]\n\u001b[0;32m      5\u001b[0m \u001b[38;5;66;03m# Calculate the average purchase amount for customers who used a discount\u001b[39;00m\n",
      "\u001b[1;31mNameError\u001b[0m: name 'discount_df' is not defined"
     ]
    }
   ],
   "source": [
    "# Filter the DataFrame for customers who used a discount\n",
    "discount_df = discount_df.dropna(subset=['Purchase Amount (USD)'])\n",
    "discount_df = df[df['Discount Applied'] == True]\n",
    "\n",
    "# Calculate the average purchase amount for customers who used a discount\n",
    "average_purchase_amount = discount_df['Purchase Amount (USD)'].mean()\n",
    "\n",
    "print(f\"The average purchase amount for customers who used a discount is: ${average_purchase_amount:.2f}\")\n"
   ]
  },
  {
   "cell_type": "markdown",
   "id": "1397f588",
   "metadata": {
    "papermill": {
     "duration": 0.043847,
     "end_time": "2023-11-04T12:15:57.973360",
     "exception": false,
     "start_time": "2023-11-04T12:15:57.929513",
     "status": "completed"
    },
    "tags": []
   },
   "source": [
    "<div style=\"padding:10px;\n",
    "            color:#E55604;\n",
    "            margin:10px;\n",
    "            font-size:130%;\n",
    "            display:fill;\n",
    "            border-radius:5px;\n",
    "            border-style: solid;\n",
    "            border-color: #FF9B50;\n",
    "            background-color:#000000;\n",
    "            overflow:hidden;\n",
    "            font-weight:400\"><b>What is the most common category of items purchased by female customers with a review rating below 3 ?</b>\n",
    "</div>"
   ]
  },
  {
   "cell_type": "code",
   "execution_count": 24,
   "id": "58b91a19",
   "metadata": {
    "papermill": {
     "duration": 0.057461,
     "end_time": "2023-11-04T12:15:58.076751",
     "exception": false,
     "start_time": "2023-11-04T12:15:58.019290",
     "status": "completed"
    },
    "tags": []
   },
   "outputs": [
    {
     "name": "stdout",
     "output_type": "stream",
     "text": [
      "The most common category of items purchased by female customers with a review rating below 3 is: Clothing\n"
     ]
    }
   ],
   "source": [
    "\n",
    "# Filter the DataFrame for female customers with a review rating below 3\n",
    "filtered_df = df[(df['Gender'] == 'Female') & (df['Review Rating'] < 3)]\n",
    "\n",
    "# Determine the most common category\n",
    "most_common_category = filtered_df['Category'].value_counts().idxmax()\n",
    "\n",
    "# Print the result\n",
    "print(f\"The most common category of items purchased by female customers with a review rating below 3 is: {most_common_category}\")\n"
   ]
  },
  {
   "cell_type": "markdown",
   "id": "59056a6e",
   "metadata": {
    "papermill": {
     "duration": 0.047803,
     "end_time": "2023-11-04T12:15:58.172320",
     "exception": false,
     "start_time": "2023-11-04T12:15:58.124517",
     "status": "completed"
    },
    "tags": []
   },
   "source": [
    "<div style=\"padding:10px;\n",
    "            color:#E55604;\n",
    "            margin:10px;\n",
    "            font-size:130%;\n",
    "            display:fill;\n",
    "            border-radius:5px;\n",
    "            border-style: solid;\n",
    "            border-color: #FF9B50;\n",
    "            background-color:#000000;\n",
    "            overflow:hidden;\n",
    "            font-weight:400\"><b>What is the average age of customers who made purchases with a review rating above 4 and used a promo code?</b></div>"
   ]
  },
  {
   "cell_type": "code",
   "execution_count": 25,
   "id": "660a41ce",
   "metadata": {
    "papermill": {
     "duration": 0.060793,
     "end_time": "2023-11-04T12:15:58.277945",
     "exception": false,
     "start_time": "2023-11-04T12:15:58.217152",
     "status": "completed"
    },
    "tags": []
   },
   "outputs": [
    {
     "name": "stdout",
     "output_type": "stream",
     "text": [
      "      Customer ID  Age  Gender Item Purchased     Category  \\\n",
      "0               1   55    Male         Blouse     Clothing   \n",
      "1               2   19    Male        Sweater     Clothing   \n",
      "2               3   50    Male          Jeans     Clothing   \n",
      "3               4   21    Male        Sandals     Footwear   \n",
      "4               5   45    Male         Blouse     Clothing   \n",
      "...           ...  ...     ...            ...          ...   \n",
      "3895         3896   40  Female         Hoodie     Clothing   \n",
      "3896         3897   52  Female       Backpack  Accessories   \n",
      "3897         3898   46  Female           Belt  Accessories   \n",
      "3898         3899   44  Female          Shoes     Footwear   \n",
      "3899         3900   52  Female        Handbag  Accessories   \n",
      "\n",
      "      Purchase Amount (USD)       Location Size      Color  Season  \\\n",
      "0                        53       Kentucky    L       Gray  Winter   \n",
      "1                        64          Maine    L     Maroon  Winter   \n",
      "2                        73  Massachusetts    S     Maroon  Spring   \n",
      "3                        90   Rhode Island    M     Maroon  Spring   \n",
      "4                        49         Oregon    M  Turquoise  Spring   \n",
      "...                     ...            ...  ...        ...     ...   \n",
      "3895                     28       Virginia    L  Turquoise  Summer   \n",
      "3896                     49           Iowa    L      White  Spring   \n",
      "3897                     33     New Jersey    L      Green  Spring   \n",
      "3898                     77      Minnesota    S      Brown  Summer   \n",
      "3899                     81     California    M      Beige  Spring   \n",
      "\n",
      "      Review Rating Subscription Status   Shipping Type Discount Applied  \\\n",
      "0               3.1                 Yes         Express              Yes   \n",
      "1               3.1                 Yes         Express              Yes   \n",
      "2               3.1                 Yes   Free Shipping              Yes   \n",
      "3               3.5                 Yes    Next Day Air              Yes   \n",
      "4               2.7                 Yes   Free Shipping              Yes   \n",
      "...             ...                 ...             ...              ...   \n",
      "3895            4.2                  No  2-Day Shipping               No   \n",
      "3896            4.5                  No    Store Pickup               No   \n",
      "3897            2.9                  No        Standard               No   \n",
      "3898            3.8                  No         Express               No   \n",
      "3899            3.1                  No    Store Pickup               No   \n",
      "\n",
      "     Promo Code Used  Previous Purchases Payment Method Frequency of Purchases  \n",
      "0                Yes                  14          Venmo            Fortnightly  \n",
      "1                Yes                   2           Cash            Fortnightly  \n",
      "2                Yes                  23    Credit Card                 Weekly  \n",
      "3                Yes                  49         PayPal                 Weekly  \n",
      "4                Yes                  31         PayPal               Annually  \n",
      "...              ...                 ...            ...                    ...  \n",
      "3895              No                  32          Venmo                 Weekly  \n",
      "3896              No                  41  Bank Transfer              Bi-Weekly  \n",
      "3897              No                  24          Venmo              Quarterly  \n",
      "3898              No                  24          Venmo                 Weekly  \n",
      "3899              No                  33          Venmo              Quarterly  \n",
      "\n",
      "[3900 rows x 18 columns]\n",
      "\n",
      "Filtered DataFrame:\n",
      "Empty DataFrame\n",
      "Columns: [Customer ID, Age, Gender, Item Purchased, Category, Purchase Amount (USD), Location, Size, Color, Season, Review Rating, Subscription Status, Shipping Type, Discount Applied, Promo Code Used, Previous Purchases, Payment Method, Frequency of Purchases]\n",
      "Index: []\n",
      "\n",
      "Checking for NaN values in 'Age':\n",
      "Series([], Name: Age, dtype: bool)\n",
      "\n",
      "The average age of customers who made purchases with a review rating above 4 and used a promo code is: nan\n"
     ]
    }
   ],
   "source": [
    "df = pd.DataFrame(df)\n",
    "print(df)\n",
    "\n",
    "# Filter the DataFrame for customers with a review rating above 4 and used a promo code\n",
    "filtered_df = df[(df['Review Rating'] > 4) & (df['Promo Code Used'] == True)]\n",
    "\n",
    "# Print the filtered DataFrame to verify data\n",
    "print(\"\\nFiltered DataFrame:\")\n",
    "print(filtered_df)\n",
    "\n",
    "# Check for NaN values in the age column\n",
    "print(\"\\nChecking for NaN values in 'Age':\")\n",
    "print(filtered_df['Age'].isna())\n",
    "\n",
    "# Calculate the average age of these customers\n",
    "average_age = filtered_df['Age'].mean()\n",
    "\n",
    "# Print the result\n",
    "print(f\"\\nThe average age of customers who made purchases with a review rating above 4 and used a promo code is: {average_age}\")\n"
   ]
  },
  {
   "cell_type": "markdown",
   "id": "95afbf1a",
   "metadata": {
    "papermill": {
     "duration": 0.045353,
     "end_time": "2023-11-04T12:15:58.369652",
     "exception": false,
     "start_time": "2023-11-04T12:15:58.324299",
     "status": "completed"
    },
    "tags": []
   },
   "source": [
    "<div style=\"padding:10px;\n",
    "            color:#E55604;\n",
    "            margin:10px;\n",
    "            font-size:130%;\n",
    "            display:fill;\n",
    "            border-radius:5px;\n",
    "            border-style: solid;\n",
    "            border-color: #FF9B50;\n",
    "            background-color:#000000;\n",
    "            overflow:hidden;\n",
    "            font-weight:400\"><b>What is the total purchase amount for customers in each location ?</b></div>"
   ]
  },
  {
   "cell_type": "code",
   "execution_count": 26,
   "id": "d1092075",
   "metadata": {
    "papermill": {
     "duration": 0.058131,
     "end_time": "2023-11-04T12:15:58.473501",
     "exception": false,
     "start_time": "2023-11-04T12:15:58.415370",
     "status": "completed"
    },
    "tags": []
   },
   "outputs": [
    {
     "name": "stdout",
     "output_type": "stream",
     "text": [
      "Location\n",
      "Alabama           5261\n",
      "Alaska            4867\n",
      "Arizona           4326\n",
      "Arkansas          4828\n",
      "California        5605\n",
      "Colorado          4222\n",
      "Connecticut       4226\n",
      "Delaware          4758\n",
      "Florida           3798\n",
      "Georgia           4645\n",
      "Hawaii            3752\n",
      "Idaho             5587\n",
      "Illinois          5617\n",
      "Indiana           4655\n",
      "Iowa              4201\n",
      "Kansas            3437\n",
      "Kentucky          4402\n",
      "Louisiana         4848\n",
      "Maine             4388\n",
      "Maryland          4795\n",
      "Massachusetts     4384\n",
      "Michigan          4533\n",
      "Minnesota         4977\n",
      "Mississippi       4883\n",
      "Missouri          4691\n",
      "Montana           5784\n",
      "Nebraska          5172\n",
      "Nevada            5514\n",
      "New Hampshire     4219\n",
      "New Jersey        3802\n",
      "New Mexico        5014\n",
      "New York          5257\n",
      "North Carolina    4742\n",
      "North Dakota      5220\n",
      "Ohio              4649\n",
      "Oklahoma          4376\n",
      "Oregon            4243\n",
      "Pennsylvania      4926\n",
      "Rhode Island      3871\n",
      "South Carolina    4439\n",
      "South Dakota      4236\n",
      "Tennessee         4772\n",
      "Texas             4712\n",
      "Utah              4443\n",
      "Vermont           4860\n",
      "Virginia          4842\n",
      "Washington        4623\n",
      "West Virginia     5174\n",
      "Wisconsin         4196\n",
      "Wyoming           4309\n",
      "Name: Purchase Amount (USD), dtype: int64\n"
     ]
    }
   ],
   "source": [
    "#Calculate total purchase amount for customers in each location\n",
    "total_purchase_by_location = df.groupby('Location')['Purchase Amount (USD)'].sum()\n",
    "\n",
    "print(total_purchase_by_location)"
   ]
  },
  {
   "cell_type": "markdown",
   "id": "e14f18ad",
   "metadata": {
    "papermill": {
     "duration": 0.048939,
     "end_time": "2023-11-04T12:15:58.567846",
     "exception": false,
     "start_time": "2023-11-04T12:15:58.518907",
     "status": "completed"
    },
    "tags": []
   },
   "source": [
    "<div style=\"padding:10px;\n",
    "            color:#E55604;\n",
    "            margin:10px;\n",
    "            font-size:130%;\n",
    "            display:fill;\n",
    "            border-radius:5px;\n",
    "            border-style: solid;\n",
    "            border-color: #FF9B50;\n",
    "            background-color:#000000;\n",
    "            overflow:hidden;\n",
    "            font-weight:400\"><b>What is the average purchase amount for customers who have a subscription and used Venmo as the payment method ?</b></div>"
   ]
  },
  {
   "cell_type": "code",
   "execution_count": 27,
   "id": "f6707e4d",
   "metadata": {
    "papermill": {
     "duration": 0.061668,
     "end_time": "2023-11-04T12:15:58.677162",
     "exception": false,
     "start_time": "2023-11-04T12:15:58.615494",
     "status": "completed"
    },
    "tags": []
   },
   "outputs": [
    {
     "name": "stdout",
     "output_type": "stream",
     "text": [
      "The average purchase amount for customers with a subscription who used Venmo is: $nan\n"
     ]
    }
   ],
   "source": [
    "\n",
    "\n",
    "# Filter DataFrame for customers with a subscription and Venmo as the payment method\n",
    "filtered_df = df[(df['Subscription Status'] == True) & (df['Purchase Amount (USD)'] == 'Venmo')]\n",
    "\n",
    "# Calculate average purchase amount\n",
    "average_purchase_amount = filtered_df['Payment Method'].mean()\n",
    "\n",
    "print(f\"The average purchase amount for customers with a subscription who used Venmo is: ${average_purchase_amount:}\")\n"
   ]
  },
  {
   "cell_type": "markdown",
   "id": "90fe45f2",
   "metadata": {
    "papermill": {
     "duration": 0.044647,
     "end_time": "2023-11-04T12:15:58.767835",
     "exception": false,
     "start_time": "2023-11-04T12:15:58.723188",
     "status": "completed"
    },
    "tags": []
   },
   "source": [
    "<div style=\"padding:10px;\n",
    "            color:#E55604;\n",
    "            margin:10px;\n",
    "            font-size:130%;\n",
    "            display:fill;\n",
    "            border-radius:5px;\n",
    "            border-style: solid;\n",
    "            border-color: #FF9B50;\n",
    "            background-color:#000000;\n",
    "            overflow:hidden;\n",
    "            font-weight:400\"><b>What is the frequency distribution of the 'Frequency of Purchases' column ?</b></div>"
   ]
  },
  {
   "cell_type": "code",
   "execution_count": 43,
   "id": "a8c70ca7",
   "metadata": {
    "papermill": {
     "duration": 0.055771,
     "end_time": "2023-11-04T12:15:58.868180",
     "exception": false,
     "start_time": "2023-11-04T12:15:58.812409",
     "status": "completed"
    },
    "tags": []
   },
   "outputs": [
    {
     "name": "stdout",
     "output_type": "stream",
     "text": [
      "Frequency of Purchases\n",
      "Every 3 Months    584\n",
      "Annually          572\n",
      "Quarterly         563\n",
      "Monthly           553\n",
      "Bi-Weekly         547\n",
      "Fortnightly       542\n",
      "Weekly            539\n",
      "Name: count, dtype: int64\n"
     ]
    }
   ],
   "source": [
    " #Calculate frequency distribution of 'Frequency of Purchases'\n",
    "frequency_distribution = df['Frequency of Purchases'].value_counts()\n",
    "\n",
    "print(frequency_distribution)"
   ]
  },
  {
   "cell_type": "markdown",
   "id": "c3df78c7",
   "metadata": {
    "papermill": {
     "duration": 0.043939,
     "end_time": "2023-11-04T12:15:58.955809",
     "exception": false,
     "start_time": "2023-11-04T12:15:58.911870",
     "status": "completed"
    },
    "tags": []
   },
   "source": [
    "<div style=\"padding:10px;\n",
    "            color:#E55604;\n",
    "            margin:10px;\n",
    "            font-size:130%;\n",
    "            display:fill;\n",
    "            border-radius:5px;\n",
    "            border-style: solid;\n",
    "            border-color: #FF9B50;\n",
    "            background-color:#000000;\n",
    "            overflow:hidden;\n",
    "            font-weight:400\"><b>What is the average purchase amount for each color of items ?</b></div>"
   ]
  },
  {
   "cell_type": "code",
   "execution_count": 44,
   "id": "ea9f82e1",
   "metadata": {
    "papermill": {
     "duration": 0.0652,
     "end_time": "2023-11-04T12:15:59.067882",
     "exception": false,
     "start_time": "2023-11-04T12:15:59.002682",
     "status": "completed"
    },
    "tags": []
   },
   "outputs": [
    {
     "name": "stdout",
     "output_type": "stream",
     "text": [
      "Color\n",
      "Beige        60.41\n",
      "Black        58.40\n",
      "Blue         56.95\n",
      "Brown        59.06\n",
      "Charcoal     60.63\n",
      "Cyan         61.89\n",
      "Gold         61.01\n",
      "Gray         62.49\n",
      "Green        65.70\n",
      "Indigo       56.25\n",
      "Lavender     59.13\n",
      "Magenta      57.13\n",
      "Maroon       59.53\n",
      "Olive        58.15\n",
      "Orange       60.89\n",
      "Peach        59.19\n",
      "Pink         60.59\n",
      "Purple       60.01\n",
      "Red          59.32\n",
      "Silver       56.83\n",
      "Teal         60.81\n",
      "Turquoise    55.61\n",
      "Violet       61.72\n",
      "White        62.64\n",
      "Yellow       59.24\n",
      "Name: Purchase Amount (USD), dtype: float64\n"
     ]
    }
   ],
   "source": [
    "# Calculate average purchase amount for each color\n",
    "average_purchase_by_color = df.groupby('Color')['Purchase Amount (USD)'].mean()\n",
    "average_purchase_by_color = average_purchase_by_color.round(2)\n",
    "\n",
    "print(average_purchase_by_color)"
   ]
  },
  {
   "cell_type": "markdown",
   "id": "18113677",
   "metadata": {},
   "source": [
    "### Exercise 5: (6 marks)\n",
    "- a)\tWhat is the most common payment method for customers who purchased items in the Fall season?\n",
    "- b)\tHow many customers have made a purchase in each category?\n",
    "- c)\tWhat is the average age of customers who purchased accessories with a discount applied?\n",
    "- d)\tWhat is the total purchase amount for each size of clothing items (XL, L, M, S)?\n",
    "- e)\tWhat is the total purchase amount for customers who have made more than 40 previous purchases?\n",
    "- f)\tWhat is the most common location for customers who purchased socks with a discount applied?\n"
   ]
  },
  {
   "cell_type": "markdown",
   "id": "3ed20b10",
   "metadata": {
    "papermill": {
     "duration": 0.063072,
     "end_time": "2023-11-04T12:16:00.294813",
     "exception": false,
     "start_time": "2023-11-04T12:16:00.231741",
     "status": "completed"
    },
    "tags": []
   },
   "source": [
    "<div style=\"padding:10px;\n",
    "            color:#E55604;\n",
    "            margin:10px;\n",
    "            font-size:130%;\n",
    "            display:fill;\n",
    "            border-radius:5px;\n",
    "            border-style: solid;\n",
    "            border-color: #FF9B50;\n",
    "            background-color:#000000;\n",
    "            overflow:hidden;\n",
    "            font-weight:400\"><b>What is the most common payment method for customers who purchased items in the Fall season ?</b></div>"
   ]
  },
  {
   "cell_type": "code",
   "execution_count": 41,
   "id": "fe87e6d6",
   "metadata": {
    "papermill": {
     "duration": 0.074239,
     "end_time": "2023-11-04T12:16:00.432489",
     "exception": false,
     "start_time": "2023-11-04T12:16:00.358250",
     "status": "completed"
    },
    "tags": []
   },
   "outputs": [
    {
     "name": "stdout",
     "output_type": "stream",
     "text": [
      "The most common payment method for customers who purchased items in the Fall season is: Cash\n"
     ]
    }
   ],
   "source": [
    "\n",
    "\n",
    "# Filter DataFrame for purchases made in the Fall season\n",
    "fall_purchases = df[df['Season'] == 'Fall']\n",
    "\n",
    "# Calculate the frequency of each payment method\n",
    "payment_method_counts = fall_purchases['Payment Method'].value_counts()\n",
    "\n",
    "# Identify the most common payment method\n",
    "most_common_payment_method = payment_method_counts.idxmax()\n",
    "\n",
    "print(f\"The most common payment method for customers who purchased items in the Fall season is: {most_common_payment_method}\")\n"
   ]
  },
  {
   "cell_type": "markdown",
   "id": "fa56972a",
   "metadata": {
    "papermill": {
     "duration": 0.062311,
     "end_time": "2023-11-04T12:16:00.556861",
     "exception": false,
     "start_time": "2023-11-04T12:16:00.494550",
     "status": "completed"
    },
    "tags": []
   },
   "source": [
    "<div style=\"padding:10px;\n",
    "            color:#E55604;\n",
    "            margin:10px;\n",
    "            font-size:130%;\n",
    "            display:fill;\n",
    "            border-radius:5px;\n",
    "            border-style: solid;\n",
    "            border-color: #FF9B50;\n",
    "            background-color:#000000;\n",
    "            overflow:hidden;\n",
    "            font-weight:400\"><b>How many customers have made a purchase in each category ?</b></div>"
   ]
  },
  {
   "cell_type": "code",
   "execution_count": 42,
   "id": "e9f46f87",
   "metadata": {
    "papermill": {
     "duration": 0.071912,
     "end_time": "2023-11-04T12:16:00.689989",
     "exception": false,
     "start_time": "2023-11-04T12:16:00.618077",
     "status": "completed"
    },
    "tags": []
   },
   "outputs": [
    {
     "name": "stdout",
     "output_type": "stream",
     "text": [
      "Category\n",
      "Accessories    1240\n",
      "Clothing       1737\n",
      "Footwear        599\n",
      "Outerwear       324\n",
      "Name: Customer ID, dtype: int64\n"
     ]
    }
   ],
   "source": [
    "#calculate the number of unique customers in each category\n",
    "customers_per_category = df.groupby('Category')['Customer ID'].nunique()\n",
    "\n",
    "print(customers_per_category)"
   ]
  },
  {
   "cell_type": "markdown",
   "id": "3f7bb7a6",
   "metadata": {
    "papermill": {
     "duration": 0.060128,
     "end_time": "2023-11-04T12:16:00.811045",
     "exception": false,
     "start_time": "2023-11-04T12:16:00.750917",
     "status": "completed"
    },
    "tags": []
   },
   "source": [
    "<div style=\"padding:10px;\n",
    "            color:#E55604;\n",
    "            margin:10px;\n",
    "            font-size:130%;\n",
    "            display:fill;\n",
    "            border-radius:5px;\n",
    "            border-style: solid;\n",
    "            border-color: #FF9B50;\n",
    "            background-color:#000000;\n",
    "            overflow:hidden;\n",
    "            font-weight:400\"><b>What is the average age of customers who purchased accessories with a discount applied ?</b></div>"
   ]
  },
  {
   "cell_type": "code",
   "execution_count": null,
   "id": "ef07c15a",
   "metadata": {
    "execution": {
     "iopub.execute_input": "2023-11-04T12:16:00.936803Z",
     "iopub.status.busy": "2023-11-04T12:16:00.936069Z",
     "iopub.status.idle": "2023-11-04T12:16:00.943501Z",
     "shell.execute_reply": "2023-11-04T12:16:00.942257Z"
    },
    "papermill": {
     "duration": 0.072418,
     "end_time": "2023-11-04T12:16:00.945142",
     "exception": false,
     "start_time": "2023-11-04T12:16:00.872724",
     "status": "completed"
    },
    "tags": []
   },
   "outputs": [],
   "source": []
  },
  {
   "cell_type": "markdown",
   "id": "c7280ee3",
   "metadata": {
    "papermill": {
     "duration": 0.061337,
     "end_time": "2023-11-04T12:16:01.068847",
     "exception": false,
     "start_time": "2023-11-04T12:16:01.007510",
     "status": "completed"
    },
    "tags": []
   },
   "source": [
    "<div style=\"padding:10px;\n",
    "            color:#E55604;\n",
    "            margin:10px;\n",
    "            font-size:130%;\n",
    "            display:fill;\n",
    "            border-radius:5px;\n",
    "            border-style: solid;\n",
    "            border-color: #FF9B50;\n",
    "            background-color:#000000;\n",
    "            overflow:hidden;\n",
    "            font-weight:400\"><b>What is the total purchase amount for each size of clothing items (XL, L, M, S) ?</b></div>"
   ]
  },
  {
   "cell_type": "code",
   "execution_count": 40,
   "id": "b6ce3e07",
   "metadata": {
    "papermill": {
     "duration": 0.075841,
     "end_time": "2023-11-04T12:16:01.207844",
     "exception": false,
     "start_time": "2023-11-04T12:16:01.132003",
     "status": "completed"
    },
    "tags": []
   },
   "outputs": [
    {
     "name": "stdout",
     "output_type": "stream",
     "text": [
      "Size\n",
      "L      61667\n",
      "M     105167\n",
      "S      40468\n",
      "XL     25779\n",
      "Name: Purchase Amount (USD), dtype: int64\n"
     ]
    }
   ],
   "source": [
    "# Calculate the total purchase amount for each size\n",
    "total_purchase_by_size = df.groupby('Size')['Purchase Amount (USD)'].sum()\n",
    "\n",
    "# Display the results\n",
    "print(total_purchase_by_size)"
   ]
  },
  {
   "cell_type": "markdown",
   "id": "e3707a52",
   "metadata": {
    "papermill": {
     "duration": 0.060923,
     "end_time": "2023-11-04T12:16:01.331637",
     "exception": false,
     "start_time": "2023-11-04T12:16:01.270714",
     "status": "completed"
    },
    "tags": []
   },
   "source": [
    "<div style=\"padding:10px;\n",
    "            color:#E55604;\n",
    "            margin:10px;\n",
    "            font-size:130%;\n",
    "            display:fill;\n",
    "            border-radius:5px;\n",
    "            border-style: solid;\n",
    "            border-color: #FF9B50;\n",
    "            background-color:#000000;\n",
    "            overflow:hidden;\n",
    "            font-weight:400\"><b>What is the total purchase amount for customers who have made more than 40 previous purchases ?</b></div>"
   ]
  },
  {
   "cell_type": "code",
   "execution_count": 39,
   "id": "6981423e",
   "metadata": {
    "papermill": {
     "duration": 0.072477,
     "end_time": "2023-11-04T12:16:01.466251",
     "exception": false,
     "start_time": "2023-11-04T12:16:01.393774",
     "status": "completed"
    },
    "tags": []
   },
   "outputs": [
    {
     "name": "stdout",
     "output_type": "stream",
     "text": [
      "The total purchase amount for customers who have made more than 40 previous purchases is: 46590\n"
     ]
    }
   ],
   "source": [
    "\n",
    "# Filter data for customers who have made more than 40 previous purchases\n",
    "filtered_df = df[df['Previous Purchases'] > 40]\n",
    "\n",
    "# Calculate the total purchase amount\n",
    "total_purchase_amount = filtered_df['Purchase Amount (USD)'].sum()\n",
    "\n",
    "print(f'The total purchase amount for customers who have made more than 40 previous purchases is: {total_purchase_amount}')\n"
   ]
  },
  {
   "cell_type": "markdown",
   "id": "deee216f",
   "metadata": {
    "papermill": {
     "duration": 0.062305,
     "end_time": "2023-11-04T12:16:01.590691",
     "exception": false,
     "start_time": "2023-11-04T12:16:01.528386",
     "status": "completed"
    },
    "tags": []
   },
   "source": [
    "<div style=\"padding:10px;\n",
    "            color:#E55604;\n",
    "            margin:10px;\n",
    "            font-size:130%;\n",
    "            display:fill;\n",
    "            border-radius:5px;\n",
    "            border-style: solid;\n",
    "            border-color: #FF9B50;\n",
    "            background-color:#000000;\n",
    "            overflow:hidden;\n",
    "            font-weight:400\"><b>What is the most common location for customers who purchased socks with a discount applied ?</b></div>"
   ]
  },
  {
   "cell_type": "code",
   "execution_count": 38,
   "id": "482668f7",
   "metadata": {
    "papermill": {
     "duration": 0.073503,
     "end_time": "2023-11-04T12:16:01.726918",
     "exception": false,
     "start_time": "2023-11-04T12:16:01.653415",
     "status": "completed"
    },
    "tags": []
   },
   "outputs": [
    {
     "name": "stdout",
     "output_type": "stream",
     "text": [
      "No customers purchased socks with a discount applied.\n"
     ]
    }
   ],
   "source": [
    "\n",
    "# Filter data for customers who purchased socks with a discount applied\n",
    "filtered_df = df[(df['Category'] == 'Socks') & (df['Discount Applied'] == True)]\n",
    "\n",
    "# Check if filtered DataFrame is not empty before finding the mode\n",
    "if not filtered_df.empty:\n",
    "    most_common_location = filtered_df['Location'].mode()\n",
    "    if not most_common_location.empty:\n",
    "        most_common_location = most_common_location[0]\n",
    "        print(f'The most common location for customers who purchased socks with a discount applied is: {most_common_location}')\n",
    "    else:\n",
    "        print('No single most common location found for customers who purchased socks with a discount applied.')\n",
    "else:\n",
    "    print('No customers purchased socks with a discount applied.')\n",
    "\n",
    "\n"
   ]
  },
  {
   "cell_type": "markdown",
   "id": "7b6fb88c",
   "metadata": {},
   "source": [
    "### Exercise 6: (12 marks)\n",
    "- a)\tWhat is the average purchase amount for customers who have a subscription and used Venmo as the payment method, but did not use a promo code?\n",
    "- b)\tWhat is the most common item purchased by customers in Louisiana with a review rating of 4 or higher?\n",
    "- c)\tWhat is the total purchase amount for customers who made purchases in the Fall season and used a credit card as the payment method?\n",
    "- d)\tWhat is the most common category of items purchased by male customers in the Winter season with a review rating below 3?\n",
    "- e)\tHow many customers have a subscription status of 'Yes' and used a promo code for their purchase?\n",
    "- f)\tWhat is the correlation between a customer's age and their total previous purchases? Calculate the Pearson correlation coefficient.\n"
   ]
  },
  {
   "cell_type": "markdown",
   "id": "3696f056",
   "metadata": {
    "papermill": {
     "duration": 0.061445,
     "end_time": "2023-11-04T12:16:01.850956",
     "exception": false,
     "start_time": "2023-11-04T12:16:01.789511",
     "status": "completed"
    },
    "tags": []
   },
   "source": [
    "<div style=\"padding:10px;\n",
    "            color:#E55604;\n",
    "            margin:10px;\n",
    "            font-size:130%;\n",
    "            display:fill;\n",
    "            border-radius:5px;\n",
    "            border-style: solid;\n",
    "            border-color: #FF9B50;\n",
    "            background-color:#000000;\n",
    "            overflow:hidden;\n",
    "            font-weight:400\"><b>What is the average purchase amount for customers who have a subscription and used Venmo as the payment method, but did not use a promo code ?</b></div>"
   ]
  },
  {
   "cell_type": "code",
   "execution_count": 37,
   "id": "55b6ca64",
   "metadata": {
    "papermill": {
     "duration": 0.073537,
     "end_time": "2023-11-04T12:16:01.987127",
     "exception": false,
     "start_time": "2023-11-04T12:16:01.913590",
     "status": "completed"
    },
    "tags": []
   },
   "outputs": [
    {
     "name": "stdout",
     "output_type": "stream",
     "text": [
      "The average purchase amount for customers with a subscription, used Venmo, and did not use a promo code is: nan\n"
     ]
    }
   ],
   "source": [
    "\n",
    "# Filter data for customers who have a subscription, used Venmo, and did not use a promo code\n",
    "filtered_df = df[(df['Subscription Status'] == True) & (df['Payment Method'] == 'Venmo') & (df['Promo Code Used'] == False)]\n",
    "\n",
    "# Calculate the average purchase amount\n",
    "()\n",
    "\n",
    "print(f'The average purchase amount for customers with a subscription, used Venmo, and did not use a promo code is: {average_purchase_amount:.2f}')\n"
   ]
  },
  {
   "cell_type": "markdown",
   "id": "517140b6",
   "metadata": {
    "papermill": {
     "duration": 0.065894,
     "end_time": "2023-11-04T12:16:02.115585",
     "exception": false,
     "start_time": "2023-11-04T12:16:02.049691",
     "status": "completed"
    },
    "tags": []
   },
   "source": [
    "<div style=\"padding:10px;\n",
    "            color:#E55604;\n",
    "            margin:10px;\n",
    "            font-size:130%;\n",
    "            display:fill;\n",
    "            border-radius:5px;\n",
    "            border-style: solid;\n",
    "            border-color: #FF9B50;\n",
    "            background-color:#000000;\n",
    "            overflow:hidden;\n",
    "            font-weight:400\"><b>What is the most common item purchased by customers in Louisiana with a review rating of 4 or higher ?</b></div>"
   ]
  },
  {
   "cell_type": "code",
   "execution_count": 36,
   "id": "d9ff742e",
   "metadata": {
    "papermill": {
     "duration": 0.074502,
     "end_time": "2023-11-04T12:16:02.253341",
     "exception": false,
     "start_time": "2023-11-04T12:16:02.178839",
     "status": "completed"
    },
    "tags": []
   },
   "outputs": [
    {
     "name": "stdout",
     "output_type": "stream",
     "text": [
      "The most common item purchased with a review rating of 4 or higher is: Sandals\n"
     ]
    }
   ],
   "source": [
    "\n",
    "# Filter reviews with a rating of 4 or higher\n",
    "high_rated_reviews = df[df ['Review Rating']>= 4]\n",
    "\n",
    "# Find the most common item purchased\n",
    "most_common_item = high_rated_reviews['Item Purchased'].value_counts().idxmax()\n",
    "\n",
    "print(f\"The most common item purchased with a review rating of 4 or higher is: {most_common_item}\")\n"
   ]
  },
  {
   "cell_type": "markdown",
   "id": "2a4455ce",
   "metadata": {
    "papermill": {
     "duration": 0.062641,
     "end_time": "2023-11-04T12:16:02.378894",
     "exception": false,
     "start_time": "2023-11-04T12:16:02.316253",
     "status": "completed"
    },
    "tags": []
   },
   "source": [
    "<div style=\"padding:10px;\n",
    "            color:#E55604;\n",
    "            margin:10px;\n",
    "            font-size:130%;\n",
    "            display:fill;\n",
    "            border-radius:5px;\n",
    "            border-style: solid;\n",
    "            border-color: #FF9B50;\n",
    "            background-color:#000000;\n",
    "            overflow:hidden;\n",
    "            font-weight:400\"><b>What is the total purchase amount for customers who made purchases in the Fall season and used a credit card as the payment method ?</b></div>"
   ]
  },
  {
   "cell_type": "code",
   "execution_count": 35,
   "id": "b259d0c4",
   "metadata": {
    "papermill": {
     "duration": 0.075269,
     "end_time": "2023-11-04T12:16:02.516901",
     "exception": false,
     "start_time": "2023-11-04T12:16:02.441632",
     "status": "completed"
    },
    "tags": []
   },
   "outputs": [
    {
     "name": "stdout",
     "output_type": "stream",
     "text": [
      "The total purchase amount for customers who made purchases in the Fall season and used a credit card is: 9905\n"
     ]
    }
   ],
   "source": [
    "# Filter the data for Fall season and Credit Card payment method\n",
    "fall_credit_card_purchases = df[(df['Season'] == 'Fall') & (df['Payment Method'] == 'Credit Card')]\n",
    "\n",
    "# Calculate the total purchase amount\n",
    "total_purchase_amount = fall_credit_card_purchases['Purchase Amount (USD)'].sum()\n",
    "\n",
    "print(f\"The total purchase amount for customers who made purchases in the Fall season and used a credit card is: {total_purchase_amount}\")"
   ]
  },
  {
   "cell_type": "markdown",
   "id": "53b30321",
   "metadata": {
    "papermill": {
     "duration": 0.062714,
     "end_time": "2023-11-04T12:16:02.641944",
     "exception": false,
     "start_time": "2023-11-04T12:16:02.579230",
     "status": "completed"
    },
    "tags": []
   },
   "source": [
    "<div style=\"padding:10px;\n",
    "            color:#E55604;\n",
    "            margin:10px;\n",
    "            font-size:130%;\n",
    "            display:fill;\n",
    "            border-radius:5px;\n",
    "            border-style: solid;\n",
    "            border-color: #FF9B50;\n",
    "            background-color:#000000;\n",
    "            overflow:hidden;\n",
    "            font-weight:400\"><b>What is the most common category of items purchased by male customers in the Winter season with a review rating below 3 ?</b></div>"
   ]
  },
  {
   "cell_type": "code",
   "execution_count": 34,
   "id": "652ad114",
   "metadata": {
    "papermill": {
     "duration": 0.078293,
     "end_time": "2023-11-04T12:16:02.784328",
     "exception": false,
     "start_time": "2023-11-04T12:16:02.706035",
     "status": "completed"
    },
    "tags": []
   },
   "outputs": [
    {
     "name": "stdout",
     "output_type": "stream",
     "text": [
      "The most common category of items purchased by male customers in the Winter season with a review rating below 3 is: Clothing\n"
     ]
    }
   ],
   "source": [
    "# Filter the data for male customers in the Winter season with a review rating below 3\n",
    "filtered_data = df[(df['Gender'] == 'Male') & (df['Season'] == 'Winter') & (df['Review Rating'] < 3)]\n",
    "\n",
    "# Find the most common category of items purchased\n",
    "most_common_category = filtered_data['Category'].value_counts().idxmax()\n",
    "\n",
    "print(f\"The most common category of items purchased by male customers in the Winter season with a review rating below 3 is: {most_common_category}\")\n"
   ]
  },
  {
   "cell_type": "markdown",
   "id": "60490840",
   "metadata": {
    "papermill": {
     "duration": 0.065248,
     "end_time": "2023-11-04T12:16:02.913027",
     "exception": false,
     "start_time": "2023-11-04T12:16:02.847779",
     "status": "completed"
    },
    "tags": []
   },
   "source": [
    "<div style=\"padding:10px;\n",
    "            color:#E55604;\n",
    "            margin:10px;\n",
    "            font-size:130%;\n",
    "            display:fill;\n",
    "            border-radius:5px;\n",
    "            border-style: solid;\n",
    "            border-color: #FF9B50;\n",
    "            background-color:#000000;\n",
    "            overflow:hidden;\n",
    "            font-weight:400\"><b>How many customers have a subscription status of 'Yes' and used a promo code for their purchase ?</b></div>"
   ]
  },
  {
   "cell_type": "code",
   "execution_count": 33,
   "id": "1d1dd6a4",
   "metadata": {
    "papermill": {
     "duration": 0.076444,
     "end_time": "2023-11-04T12:16:03.053286",
     "exception": false,
     "start_time": "2023-11-04T12:16:02.976842",
     "status": "completed"
    },
    "tags": []
   },
   "outputs": [
    {
     "name": "stdout",
     "output_type": "stream",
     "text": [
      "The number of customers with a subscription status of 'Yes' and used a promo code is: 1053\n"
     ]
    }
   ],
   "source": [
    "# Filter the data for customers with a subscription status of 'Yes' and used a promo code\n",
    "filtered_customers = df[(df['Subscription Status'] == 'Yes') & (df['Promo Code Used'] == 'Yes')]\n",
    "\n",
    "# Count the number of filtered customers\n",
    "num_customers = filtered_customers.shape[0]\n",
    "\n",
    "print(f\"The number of customers with a subscription status of 'Yes' and used a promo code is: {num_customers}\")\n"
   ]
  },
  {
   "cell_type": "markdown",
   "id": "542f8459",
   "metadata": {
    "papermill": {
     "duration": 0.062651,
     "end_time": "2023-11-04T12:16:03.181891",
     "exception": false,
     "start_time": "2023-11-04T12:16:03.119240",
     "status": "completed"
    },
    "tags": []
   },
   "source": [
    "<div style=\"padding:10px;\n",
    "            color:#E55604;\n",
    "            margin:10px;\n",
    "            font-size:130%;\n",
    "            display:fill;\n",
    "            border-radius:5px;\n",
    "            border-style: solid;\n",
    "            border-color: #FF9B50;\n",
    "            background-color:#000000;\n",
    "            overflow:hidden;\n",
    "            font-weight:400\"><b>What is the correlation between a customer's age and their total previous purchases? Calculate the Pearson correlation coefficient</b></div>"
   ]
  },
  {
   "cell_type": "code",
   "execution_count": null,
   "id": "59abb090",
   "metadata": {
    "execution": {
     "iopub.execute_input": "2023-11-04T12:16:03.311229Z",
     "iopub.status.busy": "2023-11-04T12:16:03.310593Z",
     "iopub.status.idle": "2023-11-04T12:16:03.316197Z",
     "shell.execute_reply": "2023-11-04T12:16:03.315421Z"
    },
    "papermill": {
     "duration": 0.072979,
     "end_time": "2023-11-04T12:16:03.318328",
     "exception": false,
     "start_time": "2023-11-04T12:16:03.245349",
     "status": "completed"
    },
    "tags": []
   },
   "outputs": [],
   "source": []
  },
  {
   "cell_type": "markdown",
   "id": "a7b2fd9e",
   "metadata": {},
   "source": [
    "### Part B: Data Visualization (12 marks)\n",
    "\n",
    "- Plot a Histogram of Age Distribution\n",
    "- Box Plot of Purchase Amount by Gender\n",
    "- Bar Plot of Payment Method by Season\n"
   ]
  },
  {
   "cell_type": "markdown",
   "id": "4d8ff8bd",
   "metadata": {
    "papermill": {
     "duration": 0.066929,
     "end_time": "2023-11-04T12:16:03.452957",
     "exception": false,
     "start_time": "2023-11-04T12:16:03.386028",
     "status": "completed"
    },
    "tags": []
   },
   "source": [
    "### Histogram of Age Distribution"
   ]
  },
  {
   "cell_type": "code",
   "execution_count": 29,
   "id": "6c7b0e59",
   "metadata": {
    "papermill": {
     "duration": 0.308055,
     "end_time": "2023-11-04T12:16:03.826951",
     "exception": false,
     "start_time": "2023-11-04T12:16:03.518896",
     "status": "completed"
    },
    "tags": []
   },
   "outputs": [
    {
     "data": {
      "image/png": "[encoded data removed]",
      "text/plain": [
       "<Figure size 2000x600 with 1 Axes>"
      ]
     },
     "metadata": {},
     "output_type": "display_data"
    }
   ],
   "source": [
    "plt.figure(figsize = (20, 6))\n",
    "plt.hist(df['Age'], bins = 20, edgecolor = 'k')\n",
    "plt.title('')\n",
    "plt.xlabel('')\n",
    "plt.ylabel('Frequency')\n",
    "plt.show()"
   ]
  },
  {
   "cell_type": "markdown",
   "id": "4ba8fdef",
   "metadata": {
    "papermill": {
     "duration": 0.063417,
     "end_time": "2023-11-04T12:16:03.955972",
     "exception": false,
     "start_time": "2023-11-04T12:16:03.892555",
     "status": "completed"
    },
    "tags": []
   },
   "source": [
    "### Box Plot of Purchase Amount by Gender"
   ]
  },
  {
   "cell_type": "code",
   "execution_count": 32,
   "id": "d1178d74",
   "metadata": {
    "papermill": {
     "duration": 0.306635,
     "end_time": "2023-11-04T12:16:04.328166",
     "exception": false,
     "start_time": "2023-11-04T12:16:04.021531",
     "status": "completed"
    },
    "tags": []
   },
   "outputs": [
    {
     "data": {
      "text/plain": [
       "<Figure size 1000x600 with 0 Axes>"
      ]
     },
     "metadata": {},
     "output_type": "display_data"
    },
    {
     "data": {
      "image/png": "[encoded data removed]",
      "text/plain": [
       "<Figure size 640x480 with 1 Axes>"
      ]
     },
     "metadata": {},
     "output_type": "display_data"
    }
   ],
   "source": [
    "# Create a box plot of purchase amount by gender\n",
    "plt.figure(figsize=(10, 6))\n",
    "df.boxplot(column='Purchase Amount (USD)', by='Gender')\n",
    "plt.title('Box Plot of Purchase Amount by Gender')\n",
    "plt.suptitle('')  # Suppress the default title\n",
    "plt.xlabel('Gender')\n",
    "plt.ylabel('Purchase Amount')\n",
    "plt.show()"
   ]
  },
  {
   "cell_type": "markdown",
   "id": "44f184e9",
   "metadata": {},
   "source": []
  },
  {
   "cell_type": "markdown",
   "id": "a525f7c6",
   "metadata": {
    "papermill": {
     "duration": 0.065252,
     "end_time": "2023-11-04T12:16:06.097732",
     "exception": false,
     "start_time": "2023-11-04T12:16:06.032480",
     "status": "completed"
    },
    "tags": []
   },
   "source": [
    "### Bar Plot of Payment Method by Season"
   ]
  },
  {
   "cell_type": "code",
   "execution_count": 31,
   "id": "68956d0f",
   "metadata": {},
   "outputs": [
    {
     "data": {
      "image/png": "[encoded data removed]",
      "text/plain": [
       "<Figure size 1000x600 with 1 Axes>"
      ]
     },
     "metadata": {},
     "output_type": "display_data"
    }
   ],
   "source": [
    "\n",
    "# Group data by season and payment method\n",
    "payment_by_season = df.groupby(['Season', 'Payment Method']).size().unstack()\n",
    "\n",
    "# Plotting the bar plot\n",
    "payment_by_season.plot(kind='bar', figsize=(10, 6))\n",
    "plt.title('Payment Method by Season')\n",
    "plt.xlabel('Season')\n",
    "plt.ylabel('Count')\n",
    "plt.xticks(rotation=0)\n",
    "plt.legend(title='Payment Method')\n",
    "plt.show()\n"
   ]
  },
  {
   "cell_type": "code",
   "execution_count": null,
   "id": "88eddd9c-0d7f-4f2e-8f27-73aefa7a5e4a",
   "metadata": {},
   "outputs": [],
   "source": []
  }
 ],
 "metadata": {
  "kernelspec": {
   "display_name": "Python 3 (ipykernel)",
   "language": "python",
   "name": "python3"
  },
  "language_info": {
   "codemirror_mode": {
    "name": "ipython",
    "version": 3
   },
   "file_extension": ".py",
   "mimetype": "text/x-python",
   "name": "python",
   "nbconvert_exporter": "python",
   "pygments_lexer": "ipython3",
   "version": "3.12.7"
  },
  "papermill": {
   "default_parameters": {},
   "duration": 30.929857,
   "end_time": "2023-11-04T12:16:10.857804",
   "environment_variables": {},
   "exception": null,
   "input_path": "__notebook__.ipynb",
   "output_path": "__notebook__.ipynb",
   "parameters": {},
   "start_time": "2023-11-04T12:15:39.927947",
   "version": "2.4.0"
  }
 },
 "nbformat": 4,
 "nbformat_minor": 5
}
